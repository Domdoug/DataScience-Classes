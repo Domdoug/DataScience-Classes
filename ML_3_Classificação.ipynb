{
  "nbformat": 4,
  "nbformat_minor": 0,
  "metadata": {
    "anaconda-cloud": {},
    "kernelspec": {
      "display_name": "Python 3",
      "language": "python",
      "name": "python3"
    },
    "language_info": {
      "codemirror_mode": {
        "name": "ipython",
        "version": 3
      },
      "file_extension": ".py",
      "mimetype": "text/x-python",
      "name": "python",
      "nbconvert_exporter": "python",
      "pygments_lexer": "ipython3",
      "version": "3.6.5"
    },
    "colab": {
      "name": "ML - 3. Classificação.ipynb",
      "version": "0.3.2",
      "provenance": [],
      "collapsed_sections": []
    }
  },
  "cells": [
    {
      "cell_type": "markdown",
      "metadata": {
        "id": "LKd9KtCqC-Yx",
        "colab_type": "text"
      },
      "source": [
        "# Especialização em Ciência de Dados - PUC-Rio\n",
        "# Machine Learning\n",
        "## Problemas de Classificação"
      ]
    },
    {
      "cell_type": "markdown",
      "metadata": {
        "id": "9xZzCmv2TgJw",
        "colab_type": "text"
      },
      "source": [
        "# Importação dos dados\n",
        "\n",
        "Usaremos a mesma base de dados que trabalhamos anteriormente, o dataset Pima Indians Diabetes. O trecho de código a seguir é idêntico ao que fizemos no laboratório passado e serve apenas para importar os dados e separá-los em entradas (X) e saídas (Y)."
      ]
    },
    {
      "cell_type": "code",
      "metadata": {
        "id": "Qyrucq_ZPgWE",
        "colab_type": "code",
        "colab": {}
      },
      "source": [
        "# Carrega arquivo csv usando Pandas usando uma URL\n",
        "\n",
        "# Importa todo o pacote Pandas\n",
        "import pandas as pd\n",
        "\n",
        "# Importa a função datasets\n",
        "from sklearn import datasets\n",
        "\n",
        "# Informa a URL de importação do dataset\n",
        "url = \"https://raw.githubusercontent.com/jbrownlee/Datasets/master/pima-indians-diabetes.data.csv\"\n",
        "\n",
        "# Informa o cabeçalho das colunas\n",
        "colunas = ['preg', 'plas', 'pres', 'skin', 'test', 'mass', 'pedi', 'age', 'class']\n",
        "\n",
        "# Lê o arquivo utilizando as colunas informadas\n",
        "dataset = pd.read_csv(url, names=colunas, skiprows=0, delimiter=',')\n",
        "\n",
        "# Pega apenas os dados do dataset e guardando em um array\n",
        "array = dataset.values\n",
        "\n",
        "# Separa o array em variáveis preditoras (X) e variável target (Y)\n",
        "X = array[:,0:8]\n",
        "Y = array[:,8]"
      ],
      "execution_count": 0,
      "outputs": []
    },
    {
      "cell_type": "markdown",
      "metadata": {
        "id": "oj6aMXAwB3Xy",
        "colab_type": "text"
      },
      "source": [
        "O trecho de código a seguir ilustra como importar um dos datasets que já vem junto com o scikit-learn. São eles:\n",
        "\n",
        "* load_boston([return_X_y])\t- **boston house-prices** (regressão).\n",
        "* load_iris([return_X_y])\t- **iris** (classificação).\n",
        "* load_diabetes([return_X_y])\t- **diabetes** (regressão).\n",
        "* load_digits([n_class, return_X_y]) - **digits** (classificação).\n",
        "* load_linnerud([return_X_y])\t- **linnerud** (regressão multivariada).\n",
        "* load_wine([return_X_y])\t- **wine** (classificação).\n",
        "* load_breast_cancer([return_X_y]) - **breast cancer wisconsin** (classificação)."
      ]
    },
    {
      "cell_type": "code",
      "metadata": {
        "id": "syUGGIIi4l3V",
        "colab_type": "code",
        "colab": {}
      },
      "source": [
        "# NÃO EXECUTAR PARA O LABORATÓRIO!\n",
        "\n",
        "# Datasets do scikit-learn: https://scikit-learn.org/stable/datasets/index.html\n",
        "\n",
        "# Importação de pacotes\n",
        "import pandas as pd\n",
        "import numpy as np\n",
        "from sklearn import datasets\n",
        "\n",
        "# Carrega o dataset iris\n",
        "iris = datasets.load_iris()\n",
        "\n",
        "# Converte para dataframe\n",
        "dataframe = pd.DataFrame(data= np.c_[iris['data'], iris['target']],\n",
        "                     columns= iris['feature_names'] + ['target'])\n",
        "\n",
        "# Mostra as 5 primeiras linhas do dataset\n",
        "dataframe.head(5)\n",
        "\n",
        "# Extraindo os 2 primeiros atributos para variáveis preditoras (x) e variável target (y)\n",
        "x_iris = iris.data[:, :2] \n",
        "y_iris = iris.target"
      ],
      "execution_count": 0,
      "outputs": []
    },
    {
      "cell_type": "markdown",
      "metadata": {
        "id": "qySAU0LTT-jS",
        "colab_type": "text"
      },
      "source": [
        "# Resampling: Particionamento do dataset"
      ]
    },
    {
      "cell_type": "markdown",
      "metadata": {
        "id": "dd2NJcDuUMKc",
        "colab_type": "text"
      },
      "source": [
        "## Particionamento em Conjuntos de Treino e Teste\n",
        "\n",
        "https://scikit-learn.org/stable/modules/generated/sklearn.model_selection.train_test_split.html"
      ]
    },
    {
      "cell_type": "code",
      "metadata": {
        "id": "r3JMZK2yUQXv",
        "colab_type": "code",
        "colab": {}
      },
      "source": [
        "# Import dos pacotes\n",
        "from sklearn.model_selection import train_test_split\n",
        "\n",
        "# Definição do tamanho do conjunto de teste para 33%\n",
        "teste_size = 0.33\n",
        "\n",
        "# A semente (seed) pode ser qualquer número, e garante que os resultados possam ser reproduzidos de forma idêntica toda vez que o script for rodado. \n",
        "# Isto é muito importante quando trabalhamos com modelos ou métodos que utilizam de algum tipo de aleatoriedade.\n",
        "seed = 7\n",
        "\n",
        "# Criando os conjuntos de dados de treino e de teste\n",
        "X_treino, X_teste, Y_treino, Y_teste = train_test_split(X, Y, test_size = teste_size, random_state = seed)"
      ],
      "execution_count": 0,
      "outputs": []
    },
    {
      "cell_type": "markdown",
      "metadata": {
        "id": "5uhVY0CTUfgh",
        "colab_type": "text"
      },
      "source": [
        "## Validação Cruzada (K-fold Cross-Validation)\n",
        "\n",
        "https://scikit-learn.org/stable/modules/generated/sklearn.model_selection.cross_val_score.html"
      ]
    },
    {
      "cell_type": "code",
      "metadata": {
        "id": "jWHtCNPWUh39",
        "colab_type": "code",
        "colab": {}
      },
      "source": [
        "# Avaliação usando Cross Validation\n",
        "\n",
        "# Import dos pacotes\n",
        "from sklearn.model_selection import KFold\n",
        "from sklearn.model_selection import cross_val_score\n",
        "\n",
        "# Definição dos valores para os folds e seed\n",
        "num_folds = 10\n",
        "seed = 7\n",
        "\n",
        "# Definindo os folds\n",
        "kfold = KFold(num_folds, True, random_state = seed)"
      ],
      "execution_count": 0,
      "outputs": []
    },
    {
      "cell_type": "markdown",
      "metadata": {
        "id": "nccHlXHIVkme",
        "colab_type": "text"
      },
      "source": [
        "# Métricas de Avaliação para Problemas de Classificação\n",
        "\n",
        "http://scikit-learn.org/stable/modules/generated/sklearn.cross_validation.cross_val_score.html\n",
        "\n",
        "http://scikit-learn.org/stable/modules/model_evaluation.html"
      ]
    },
    {
      "cell_type": "markdown",
      "metadata": {
        "id": "pTRTklGlVF_m",
        "colab_type": "text"
      },
      "source": [
        "Para ilustrar as métricas, precisaremos criar um modelo qualquer. Vamos usar a Regressão Logística."
      ]
    },
    {
      "cell_type": "code",
      "metadata": {
        "id": "rstehFP3VKwI",
        "colab_type": "code",
        "colab": {}
      },
      "source": [
        "from sklearn.linear_model import LogisticRegression\n",
        "modelo = LogisticRegression(solver='liblinear')"
      ],
      "execution_count": 0,
      "outputs": []
    },
    {
      "cell_type": "markdown",
      "metadata": {
        "id": "C4rfmztgWLda",
        "colab_type": "text"
      },
      "source": [
        "## Acurácia\n",
        "\n",
        "**Acurácia = número de previsões corretas/todas as previsões**\n",
        "\n",
        "É a métrica de avaliação mais comum para problemas de classificação, mas é também a mais mal utilizada. Ela só é adequada quando as classes são equilibradas e que todos os erros de previsão são igualmente importantes, o que geralmente não é o caso."
      ]
    },
    {
      "cell_type": "code",
      "metadata": {
        "id": "17ReNdGBWLk6",
        "colab_type": "code",
        "outputId": "3bcf0874-fe3a-4ddc-efa6-f163fc67f366",
        "colab": {
          "base_uri": "https://localhost:8080/",
          "height": 34
        }
      },
      "source": [
        "### 1. Usando validação cruzada\n",
        "\n",
        "# Calculando a acurácia usando o modelo criado anteriormente\n",
        "resultado = cross_val_score(modelo, X, Y, cv = kfold, scoring = 'accuracy')\n",
        "\n",
        "# Print dos resultados\n",
        "print(\"Acurácia de teste: %.2f%%\" % (resultado.mean() * 100))"
      ],
      "execution_count": 0,
      "outputs": [
        {
          "output_type": "stream",
          "text": [
            "Acurácia de teste: 77.09%\n"
          ],
          "name": "stdout"
        }
      ]
    },
    {
      "cell_type": "code",
      "metadata": {
        "id": "itAu7qiYUVuf",
        "colab_type": "code",
        "outputId": "e5e131c3-a12a-4cdf-d49f-fa943dd2bb9b",
        "colab": {
          "base_uri": "https://localhost:8080/",
          "height": 34
        }
      },
      "source": [
        "### 2. Usando conjuntos de treino e teste\n",
        "\n",
        "# Treinamento do modelo criado anteriormente\n",
        "modeloTreinado = modelo.fit(X_treino, Y_treino)\n",
        "\n",
        "# Previsões\n",
        "Y_pred = modeloTreinado.predict(X_teste)\n",
        "\n",
        "# Resultados\n",
        "corretas = (Y_teste == Y_pred).sum()\n",
        "total = Y_teste.shape[0]\n",
        "\n",
        "# Print dos resultados\n",
        "print(\"Acurácia com particionamento treino-teste: %.2f%%\" % (corretas / total * 100))"
      ],
      "execution_count": 0,
      "outputs": [
        {
          "output_type": "stream",
          "text": [
            "Acurácia com particionamento treino-teste: 75.59%\n"
          ],
          "name": "stdout"
        }
      ]
    },
    {
      "cell_type": "markdown",
      "metadata": {
        "id": "BxMV5kxoWXM8",
        "colab_type": "text"
      },
      "source": [
        "## Área sobre a curva ROC (AUC)\n",
        "\n",
        "Métrica de performance para classificação binária, em que podemos definir as classes em positiavs e negativas. Estes problemas são um *trade-off* entre Sensitivity (Sensibilidade) e Specifity (Especificidade).\n",
        "* Sensitivity: a taxa de verdadeiros positivos (TP). Número de instâncias positivas da primeira classe que foram previstas corretamente.\n",
        "* Specifity: a taxa de verdadeiros negativos (TN). Número de instâncias da segunda classe que foram previstas corretamente.\n",
        "\n",
        "Valores acima de 0.5 indicam uma boa taxa de previsão."
      ]
    },
    {
      "cell_type": "code",
      "metadata": {
        "id": "M1C6t6rmWXRu",
        "colab_type": "code",
        "outputId": "ec94e3cf-28e7-4bea-f3f3-71bbaedc735e",
        "colab": {
          "base_uri": "https://localhost:8080/",
          "height": 34
        }
      },
      "source": [
        "# Calculando a AUC usando a validação cruzada e o modelo criado anteriormente\n",
        "resultado = cross_val_score(modelo, X, Y, cv = kfold, scoring = 'roc_auc')\n",
        "\n",
        "# Print do resultado\n",
        "print(\"AUC: %.2f%%\" % (resultado.mean() * 100))"
      ],
      "execution_count": 0,
      "outputs": [
        {
          "output_type": "stream",
          "text": [
            "AUC: 82.58%\n"
          ],
          "name": "stdout"
        }
      ]
    },
    {
      "cell_type": "markdown",
      "metadata": {
        "id": "znJ8Y44Lvo9S",
        "colab_type": "text"
      },
      "source": [
        "## Combinando métricas\n",
        "\n",
        "Com a biblioteca cross_validate é possível exibir diversas métricas, incluindo as métricas de treino e teste. Veja mais em: \n",
        "https://scikit-learn.org/stable/modules/generated/sklearn.model_selection.cross_validate.html\n",
        "\n",
        "A lista de métricas suportadas está disponível em: \n",
        "https://scikit-learn.org/stable/modules/model_evaluation.html#scoring-parameter"
      ]
    },
    {
      "cell_type": "code",
      "metadata": {
        "id": "iSyDFEI9uAtO",
        "colab_type": "code",
        "outputId": "1b4a4810-2b24-4403-9cd2-8d962c8bd82b",
        "colab": {
          "base_uri": "https://localhost:8080/",
          "height": 85
        }
      },
      "source": [
        "# Import da função\n",
        "from sklearn.model_selection import cross_validate\n",
        "\n",
        "# Calculando a acurácia e a AUC usando a validação cruzada e o modelo criado anteriormente\n",
        "resultado = cross_validate(modelo, X, Y, cv = kfold,\n",
        "                        scoring=('accuracy', 'roc_auc'),\n",
        "                        return_train_score=True)\n",
        "   \n",
        "print(\"train_accuracy: %.2f%%\" % ((resultado['train_accuracy'].mean()) * 100) )\n",
        "print(\"test_accuracy: %.2f%%\" % ((resultado['test_accuracy'].mean()) * 100) )\n",
        "print(\"train_roc_auc: %.2f%%\" % ((resultado['train_roc_auc'].mean()) * 100) )\n",
        "print(\"test_roc_auc: %.2f%%\" % ((resultado['test_roc_auc'].mean()) * 100) )"
      ],
      "execution_count": 0,
      "outputs": [
        {
          "output_type": "stream",
          "text": [
            "train_accuracy: 77.79%\n",
            "test_accuracy: 77.09%\n",
            "train_roc_auc: 83.63%\n",
            "test_roc_auc: 82.58%\n"
          ],
          "name": "stdout"
        }
      ]
    },
    {
      "cell_type": "markdown",
      "metadata": {
        "id": "gf-20UVMWsqH",
        "colab_type": "text"
      },
      "source": [
        "## Matriz de Confusão\n",
        "\n",
        "Como a matriz de confusão não é uma métrica única, ela não é suportada pelas funções *cross_val_score* e *cross_validate*. É mais fácil gerá-la usando o particionamento em conjuntos de treino e teste."
      ]
    },
    {
      "cell_type": "code",
      "metadata": {
        "id": "k5pgLXS5Wvf7",
        "colab_type": "code",
        "outputId": "a6b0cf1d-c37e-4806-ed31-0ec8e981d7b6",
        "colab": {
          "base_uri": "https://localhost:8080/",
          "height": 51
        }
      },
      "source": [
        "# Matriz de Confusão\n",
        "\n",
        "# Import da função\n",
        "from sklearn.metrics import confusion_matrix\n",
        "\n",
        "# Resultado do modelo nos dados de teste \n",
        "previsoes = modelo.predict(X_teste)\n",
        "matrix = confusion_matrix(Y_teste, previsoes) \n",
        "print(matrix)"
      ],
      "execution_count": 0,
      "outputs": [
        {
          "output_type": "stream",
          "text": [
            "[[141  21]\n",
            " [ 41  51]]\n"
          ],
          "name": "stdout"
        }
      ]
    },
    {
      "cell_type": "markdown",
      "metadata": {
        "id": "9MgpBDOBW_Mg",
        "colab_type": "text"
      },
      "source": [
        "## Relatório de Métricas de Classificação do scikit-learn\n",
        "\n",
        "O scikit-learn também disponibiliza uma função que gera um relatório de métricas, a *classification_report*."
      ]
    },
    {
      "cell_type": "code",
      "metadata": {
        "id": "nUX-crAKXFE_",
        "colab_type": "code",
        "outputId": "be0ade10-5fdd-41f7-a9a3-66ed430fad75",
        "colab": {
          "base_uri": "https://localhost:8080/",
          "height": 170
        }
      },
      "source": [
        "# Import da função\n",
        "from sklearn.metrics import classification_report\n",
        "\n",
        "# Criação do relatório\n",
        "report = classification_report(Y_teste, previsoes) \n",
        "print(report)"
      ],
      "execution_count": 0,
      "outputs": [
        {
          "output_type": "stream",
          "text": [
            "              precision    recall  f1-score   support\n",
            "\n",
            "         0.0       0.77      0.87      0.82       162\n",
            "         1.0       0.71      0.55      0.62        92\n",
            "\n",
            "    accuracy                           0.76       254\n",
            "   macro avg       0.74      0.71      0.72       254\n",
            "weighted avg       0.75      0.76      0.75       254\n",
            "\n"
          ],
          "name": "stdout"
        }
      ]
    },
    {
      "cell_type": "markdown",
      "metadata": {
        "id": "Ay-Lkdj9TyFf",
        "colab_type": "text"
      },
      "source": [
        "# Algoritmos de Classificação\n",
        "\n",
        "Vamos criar uma função de treinamento e avaliação que será usada em todos os modelos, para evitar duplicação de código."
      ]
    },
    {
      "cell_type": "code",
      "metadata": {
        "id": "tz9iObHSzuK9",
        "colab_type": "code",
        "colab": {}
      },
      "source": [
        "from sklearn import metrics\n",
        "\n",
        "### Treinamento e avaliação do modelo\n",
        "\n",
        "def treinarAvaliarModelo (modelo):\n",
        "\n",
        "    ## 1. Usando validação cruzada\n",
        "\n",
        "    print(\"=== Usando validação cruzada ===\")\n",
        "\n",
        "    # Aplicação do modelo e cálculo dos resultados\n",
        "    resultado = cross_validate(modelo, X, Y, cv = kfold,\n",
        "                            scoring=('accuracy', 'roc_auc'),\n",
        "                            return_train_score=True)\n",
        "\n",
        "    print(\"Acurácia de treino: %.2f%%\" % ((resultado['train_accuracy'].mean()) * 100) )\n",
        "    print(\"Acurácia de teste: %.2f%%\" % ((resultado['test_accuracy'].mean()) * 100) )\n",
        "    print(\"AUC de treino: %.2f%%\" % ((resultado['train_roc_auc'].mean()) * 100) )\n",
        "    print(\"AUC de teste: %.2f%%\" % ((resultado['test_roc_auc'].mean()) * 100) )\n",
        "    print(\"\\n\")\n",
        "\n",
        "    ## 2. Usando conjuntos de treino e teste em vez de validação cruzada\n",
        "    \n",
        "    print(\"=== Usando particionamento treino-teste ===\")\n",
        "\n",
        "    # Treinamento\n",
        "    modeloTreinado = modelo.fit(X_treino, Y_treino)\n",
        "\n",
        "    # Previsões\n",
        "    Y_pred = modeloTreinado.predict(X_teste)\n",
        "\n",
        "    # Resultados\n",
        "    corretas = (Y_teste == Y_pred).sum()\n",
        "    total = Y_teste.shape[0]\n",
        "\n",
        "    # Print dos resultados   \n",
        "    print(\"Acurácia de teste: %.2f%%\" % (corretas / total * 100))\n",
        "    print(\"\\n\")\n",
        "    print(metrics.classification_report(Y_teste, Y_pred))\n",
        "    print(metrics.confusion_matrix(Y_teste, Y_pred))\n",
        "    \n",
        "    return;"
      ],
      "execution_count": 0,
      "outputs": []
    },
    {
      "cell_type": "markdown",
      "metadata": {
        "id": "i7qC1FiZ1YiK",
        "colab_type": "text"
      },
      "source": [
        "Relembrando...\n",
        "<ul>\n",
        "<li>Precision: Será que o que eu recuperei tem qualidade?</li>\n",
        "<li>Recall: Será que eu recuperei tudo que deveria recuperar ?</li>\n",
        "<li>F1-score: Faz uma media harmonica entre os dois</li>\n",
        "<li>Support: Qtd de registros do conjunto que se enquadram na classificação</li>\n",
        "</ul>"
      ]
    },
    {
      "cell_type": "markdown",
      "metadata": {
        "id": "yfZYelelPNq5",
        "colab_type": "text"
      },
      "source": [
        "## Árvores de Decisão\n",
        "\n",
        "Os modelos de árvores de decisão constroem uma árvore binária a partir dos dados de treinamento. Os pontos de divisão são escolhidos através da avaliação dos dados de treinamento, com base na contribuição de cada atributo para minimizar uma função de custo (como, por exemplo, o índice Gini, usado para medir a probabilidade de dois itens aleatórios pertencerem à mesma classe). Para construir um modelo do tipo CART (Classification and Regression Trees), podemos usar a classe DecisionTreeClassifier.\n",
        "\n",
        "http://scikit-learn.org/stable/modules/generated/sklearn.tree.DecisionTreeClassifier.html"
      ]
    },
    {
      "cell_type": "markdown",
      "metadata": {
        "id": "9pgqDU5n2ykR",
        "colab_type": "text"
      },
      "source": [
        "**OBS:**\n",
        "Quais são os vários algoritmos da árvore de decisão e como eles diferem um do outro? Qual é implementado no scikit-learn?\n",
        "\n",
        "* ID3 (Iterative Dichotomiser 3) foi desenvolvido em 1986 por Ross Quinlan. O algoritmo cria uma árvore de múltiplas vias, encontrando para cada nó (isto é, de maneira gulosa) o recurso categórico que produzirá o maior ganho de informação para os alvos categóricos. As árvores crescem no tamanho máximo e, em seguida, geralmente é aplicada uma etapa de poda para melhorar a capacidade da árvore de generalizar para dados não vistos.\n",
        "\n",
        "* C4.5 é o sucessor do ID3 e removeu a restrição de que os recursos devem ser categóricos, definindo dinamicamente um atributo discreto (com base em variáveis numéricas) que particiona o valor do atributo contínuo em um conjunto discreto de intervalos. C4.5 converte as árvores treinadas (ou seja, a saída do algoritmo ID3) em conjuntos de regras if-then. Essa precisão de cada regra é então avaliada para determinar a ordem em que elas devem ser aplicadas. A poda é feita removendo a pré-condição de uma regra se a precisão da regra melhorar sem ela.\n",
        "\n",
        "* C5.0 é o lançamento de uma versão mais recente da C4.5 sob uma licença proprietária. Ele usa menos memória e cria conjuntos de regras menores que o C4.5, sendo mais preciso.\n",
        "\n",
        "* CART (Classification and Regression Trees) é muito semelhante ao C4.5, mas difere no fato de suportar variáveis de saída numéricas (problemas de regressão) e não computar conjuntos de regras. O CART constrói árvores binárias usando os atributos que produzem o maior ganho de informação em cada nó.\n",
        "\n",
        "**O scikit-learn usa uma versão otimizada do algoritmo CART; no entanto, a implementação do scikit-learn não suporta variáveis categóricas por enquanto.**"
      ]
    },
    {
      "cell_type": "code",
      "metadata": {
        "id": "QRfMvDfkQhps",
        "colab_type": "code",
        "outputId": "1439cc94-8d8b-4494-a37d-a942ffc24c24",
        "colab": {
          "base_uri": "https://localhost:8080/",
          "height": 527
        }
      },
      "source": [
        "# Árvore de Classificação CART\n",
        "\n",
        "# Import da função\n",
        "from sklearn.tree import DecisionTreeClassifier\n",
        "\n",
        "# Escolhendo o modelo\n",
        "modelo = DecisionTreeClassifier()\n",
        "\n",
        "# Print dos parâmetros do modelo\n",
        "print(modelo.get_params)\n",
        "print(\"\\n\")\n",
        "\n",
        "# Treinamento e avaliação do modelo\n",
        "treinarAvaliarModelo(modelo)"
      ],
      "execution_count": 0,
      "outputs": [
        {
          "output_type": "stream",
          "text": [
            "<bound method BaseEstimator.get_params of DecisionTreeClassifier(class_weight=None, criterion='gini', max_depth=None,\n",
            "                       max_features=None, max_leaf_nodes=None,\n",
            "                       min_impurity_decrease=0.0, min_impurity_split=None,\n",
            "                       min_samples_leaf=1, min_samples_split=2,\n",
            "                       min_weight_fraction_leaf=0.0, presort=False,\n",
            "                       random_state=None, splitter='best')>\n",
            "\n",
            "\n",
            "=== Usando validação cruzada ===\n",
            "Acurácia de treino: 100.00%\n",
            "Acurácia de teste: 69.15%\n",
            "AUC de treino: 100.00%\n",
            "AUC de teste: 65.82%\n",
            "\n",
            "\n",
            "=== Usando particionamento treino-teste ===\n",
            "Acurácia de teste: 71.26%\n",
            "\n",
            "\n",
            "              precision    recall  f1-score   support\n",
            "\n",
            "         0.0       0.77      0.78      0.78       162\n",
            "         1.0       0.60      0.60      0.60        92\n",
            "\n",
            "    accuracy                           0.71       254\n",
            "   macro avg       0.69      0.69      0.69       254\n",
            "weighted avg       0.71      0.71      0.71       254\n",
            "\n",
            "[[126  36]\n",
            " [ 37  55]]\n"
          ],
          "name": "stdout"
        }
      ]
    },
    {
      "cell_type": "markdown",
      "metadata": {
        "id": "VHBuprcqzSVP",
        "colab_type": "text"
      },
      "source": [
        "Também é possível especificar valores para os parâmetros da árvore de classificação:"
      ]
    },
    {
      "cell_type": "code",
      "metadata": {
        "id": "8pyropeHy20S",
        "colab_type": "code",
        "outputId": "ab30826e-4b28-4d71-ef36-f4128fa3b863",
        "colab": {
          "base_uri": "https://localhost:8080/",
          "height": 527
        }
      },
      "source": [
        "# Criando o modelo já com os parâmetros desejados\n",
        "modelo = DecisionTreeClassifier(max_depth = None, \n",
        "                             max_features = None, \n",
        "                             criterion = 'entropy', \n",
        "                             min_samples_leaf = 1, \n",
        "                             min_samples_split = 2)\n",
        "print(modelo.get_params)\n",
        "print(\"\\n\")\n",
        "\n",
        "# Treinamento e avaliação do modelo\n",
        "treinarAvaliarModelo(modelo)"
      ],
      "execution_count": 0,
      "outputs": [
        {
          "output_type": "stream",
          "text": [
            "<bound method BaseEstimator.get_params of DecisionTreeClassifier(class_weight=None, criterion='entropy', max_depth=None,\n",
            "                       max_features=None, max_leaf_nodes=None,\n",
            "                       min_impurity_decrease=0.0, min_impurity_split=None,\n",
            "                       min_samples_leaf=1, min_samples_split=2,\n",
            "                       min_weight_fraction_leaf=0.0, presort=False,\n",
            "                       random_state=None, splitter='best')>\n",
            "\n",
            "\n",
            "=== Usando validação cruzada ===\n",
            "Acurácia de treino: 100.00%\n",
            "Acurácia de teste: 68.76%\n",
            "AUC de treino: 100.00%\n",
            "AUC de teste: 66.07%\n",
            "\n",
            "\n",
            "=== Usando particionamento treino-teste ===\n",
            "Acurácia de teste: 71.26%\n",
            "\n",
            "\n",
            "              precision    recall  f1-score   support\n",
            "\n",
            "         0.0       0.76      0.80      0.78       162\n",
            "         1.0       0.61      0.55      0.58        92\n",
            "\n",
            "    accuracy                           0.71       254\n",
            "   macro avg       0.69      0.68      0.68       254\n",
            "weighted avg       0.71      0.71      0.71       254\n",
            "\n",
            "[[130  32]\n",
            " [ 41  51]]\n"
          ],
          "name": "stdout"
        }
      ]
    },
    {
      "cell_type": "markdown",
      "metadata": {
        "id": "Vu5fJcry1_g1",
        "colab_type": "text"
      },
      "source": [
        "É possível plotar a árvore gerada usando a função **plot_tree**. Vamos ilustrar com o dataset Iris, que é menor."
      ]
    },
    {
      "cell_type": "code",
      "metadata": {
        "id": "aMMir3gc1pJm",
        "colab_type": "code",
        "outputId": "0f83b862-f8b6-441d-e88c-0a44c4534eed",
        "colab": {
          "base_uri": "https://localhost:8080/",
          "height": 558
        }
      },
      "source": [
        "from sklearn.datasets import load_iris\n",
        "from sklearn import tree\n",
        "iris = load_iris()\n",
        "clf = tree.DecisionTreeClassifier()\n",
        "clf = clf.fit(iris.data, iris.target)\n",
        "tree.plot_tree(clf.fit(iris.data, iris.target)) "
      ],
      "execution_count": 0,
      "outputs": [
        {
          "output_type": "execute_result",
          "data": {
            "text/plain": [
              "[Text(167.4, 199.32, 'X[3] <= 0.8\\ngini = 0.667\\nsamples = 150\\nvalue = [50, 50, 50]'),\n",
              " Text(141.64615384615385, 163.07999999999998, 'gini = 0.0\\nsamples = 50\\nvalue = [50, 0, 0]'),\n",
              " Text(193.15384615384616, 163.07999999999998, 'X[3] <= 1.75\\ngini = 0.5\\nsamples = 100\\nvalue = [0, 50, 50]'),\n",
              " Text(103.01538461538462, 126.83999999999999, 'X[2] <= 4.95\\ngini = 0.168\\nsamples = 54\\nvalue = [0, 49, 5]'),\n",
              " Text(51.50769230769231, 90.6, 'X[3] <= 1.65\\ngini = 0.041\\nsamples = 48\\nvalue = [0, 47, 1]'),\n",
              " Text(25.753846153846155, 54.359999999999985, 'gini = 0.0\\nsamples = 47\\nvalue = [0, 47, 0]'),\n",
              " Text(77.26153846153846, 54.359999999999985, 'gini = 0.0\\nsamples = 1\\nvalue = [0, 0, 1]'),\n",
              " Text(154.52307692307693, 90.6, 'X[3] <= 1.55\\ngini = 0.444\\nsamples = 6\\nvalue = [0, 2, 4]'),\n",
              " Text(128.76923076923077, 54.359999999999985, 'gini = 0.0\\nsamples = 3\\nvalue = [0, 0, 3]'),\n",
              " Text(180.27692307692308, 54.359999999999985, 'X[0] <= 6.95\\ngini = 0.444\\nsamples = 3\\nvalue = [0, 2, 1]'),\n",
              " Text(154.52307692307693, 18.119999999999976, 'gini = 0.0\\nsamples = 2\\nvalue = [0, 2, 0]'),\n",
              " Text(206.03076923076924, 18.119999999999976, 'gini = 0.0\\nsamples = 1\\nvalue = [0, 0, 1]'),\n",
              " Text(283.2923076923077, 126.83999999999999, 'X[2] <= 4.85\\ngini = 0.043\\nsamples = 46\\nvalue = [0, 1, 45]'),\n",
              " Text(257.53846153846155, 90.6, 'X[0] <= 5.95\\ngini = 0.444\\nsamples = 3\\nvalue = [0, 1, 2]'),\n",
              " Text(231.7846153846154, 54.359999999999985, 'gini = 0.0\\nsamples = 1\\nvalue = [0, 1, 0]'),\n",
              " Text(283.2923076923077, 54.359999999999985, 'gini = 0.0\\nsamples = 2\\nvalue = [0, 0, 2]'),\n",
              " Text(309.04615384615386, 90.6, 'gini = 0.0\\nsamples = 43\\nvalue = [0, 0, 43]')]"
            ]
          },
          "metadata": {
            "tags": []
          },
          "execution_count": 15
        },
        {
          "output_type": "display_data",
          "data": {
            "image/png": "[encoded data removed]",
            "text/plain": [
              "<Figure size 432x288 with 1 Axes>"
            ]
          },
          "metadata": {
            "tags": []
          }
        }
      ]
    },
    {
      "cell_type": "markdown",
      "metadata": {
        "id": "igYpAtpLPNPk",
        "colab_type": "text"
      },
      "source": [
        "## KNN\n",
        "O algoritmo KNN usa uma métrica de distância para encontrar as k instâncias mais semelhantes nos dados de treinamento para uma nova instância e considera o resultado médio dos vizinhos como a previsão. Podemos construir um modelo KNN usando a classe KNeighborsClassifier.\n",
        "\n",
        "http://scikit-learn.org/stable/modules/generated/sklearn.neighbors.KNeighborsClassifier.html"
      ]
    },
    {
      "cell_type": "code",
      "metadata": {
        "id": "YCKTOw0UPNXZ",
        "colab_type": "code",
        "outputId": "9f3888e9-b94a-4df7-cda5-d20881ce7654",
        "colab": {
          "base_uri": "https://localhost:8080/",
          "height": 476
        }
      },
      "source": [
        "# KNN\n",
        "\n",
        "# Import da função\n",
        "from sklearn.neighbors import KNeighborsClassifier\n",
        "\n",
        "# Escolhendo o modelo\n",
        "modelo = KNeighborsClassifier()\n",
        "\n",
        "# Print dos parâmetros do modelo\n",
        "print(modelo.get_params)\n",
        "print(\"\\n\")\n",
        "\n",
        "# Treinamento e avaliação do modelo\n",
        "treinarAvaliarModelo(modelo)"
      ],
      "execution_count": 0,
      "outputs": [
        {
          "output_type": "stream",
          "text": [
            "<bound method BaseEstimator.get_params of KNeighborsClassifier(algorithm='auto', leaf_size=30, metric='minkowski',\n",
            "                     metric_params=None, n_jobs=None, n_neighbors=5, p=2,\n",
            "                     weights='uniform')>\n",
            "\n",
            "\n",
            "=== Usando validação cruzada ===\n",
            "Acurácia de treino: 80.22%\n",
            "Acurácia de teste: 71.10%\n",
            "AUC de treino: 87.23%\n",
            "AUC de teste: 72.54%\n",
            "\n",
            "\n",
            "=== Usando particionamento treino-teste ===\n",
            "Acurácia de teste: 69.29%\n",
            "\n",
            "\n",
            "              precision    recall  f1-score   support\n",
            "\n",
            "         0.0       0.74      0.80      0.77       162\n",
            "         1.0       0.59      0.51      0.55        92\n",
            "\n",
            "    accuracy                           0.69       254\n",
            "   macro avg       0.66      0.65      0.66       254\n",
            "weighted avg       0.69      0.69      0.69       254\n",
            "\n",
            "[[129  33]\n",
            " [ 45  47]]\n"
          ],
          "name": "stdout"
        }
      ]
    },
    {
      "cell_type": "markdown",
      "metadata": {
        "id": "rLNOblkd1_Be",
        "colab_type": "text"
      },
      "source": [
        "Vamos agora experimentar variar alguns dos parâmetros do modelo."
      ]
    },
    {
      "cell_type": "code",
      "metadata": {
        "id": "iX7Ow2bwvCsp",
        "colab_type": "code",
        "outputId": "692dbe7d-65e3-448b-91d7-f8b0e1294999",
        "colab": {
          "base_uri": "https://localhost:8080/",
          "height": 969
        }
      },
      "source": [
        "# Criação de outro modelo alterando o tipo de distância\n",
        "modelo = KNeighborsClassifier(metric = 'euclidean')\n",
        "print(modelo.get_params)\n",
        "print(\"\\n\")\n",
        "\n",
        "# Treinamento e avaliação do modelo\n",
        "treinarAvaliarModelo(modelo)\n",
        "\n",
        "print(\"\\n\")\n",
        "\n",
        "# Criação de outro modelo alterando o valor de k\n",
        "modelo = KNeighborsClassifier(n_neighbors = 7)\n",
        "print(modelo.get_params)\n",
        "print(\"\\n\")\n",
        "\n",
        "# Treinamento e avaliação do modelo\n",
        "treinarAvaliarModelo(modelo)"
      ],
      "execution_count": 0,
      "outputs": [
        {
          "output_type": "stream",
          "text": [
            "<bound method BaseEstimator.get_params of KNeighborsClassifier(algorithm='auto', leaf_size=30, metric='euclidean',\n",
            "                     metric_params=None, n_jobs=None, n_neighbors=5, p=2,\n",
            "                     weights='uniform')>\n",
            "\n",
            "\n",
            "=== Usando validação cruzada ===\n",
            "Acurácia de treino: 80.22%\n",
            "Acurácia de teste: 71.10%\n",
            "AUC de treino: 87.23%\n",
            "AUC de teste: 72.54%\n",
            "\n",
            "\n",
            "=== Usando particionamento treino-teste ===\n",
            "Acurácia de teste: 69.29%\n",
            "\n",
            "\n",
            "              precision    recall  f1-score   support\n",
            "\n",
            "         0.0       0.74      0.80      0.77       162\n",
            "         1.0       0.59      0.51      0.55        92\n",
            "\n",
            "    accuracy                           0.69       254\n",
            "   macro avg       0.66      0.65      0.66       254\n",
            "weighted avg       0.69      0.69      0.69       254\n",
            "\n",
            "[[129  33]\n",
            " [ 45  47]]\n",
            "\n",
            "\n",
            "<bound method BaseEstimator.get_params of KNeighborsClassifier(algorithm='auto', leaf_size=30, metric='minkowski',\n",
            "                     metric_params=None, n_jobs=None, n_neighbors=7, p=2,\n",
            "                     weights='uniform')>\n",
            "\n",
            "\n",
            "=== Usando validação cruzada ===\n",
            "Acurácia de treino: 78.73%\n",
            "Acurácia de teste: 73.05%\n",
            "AUC de treino: 85.99%\n",
            "AUC de teste: 75.65%\n",
            "\n",
            "\n",
            "=== Usando particionamento treino-teste ===\n",
            "Acurácia de teste: 68.50%\n",
            "\n",
            "\n",
            "              precision    recall  f1-score   support\n",
            "\n",
            "         0.0       0.74      0.77      0.76       162\n",
            "         1.0       0.57      0.53      0.55        92\n",
            "\n",
            "    accuracy                           0.69       254\n",
            "   macro avg       0.66      0.65      0.65       254\n",
            "weighted avg       0.68      0.69      0.68       254\n",
            "\n",
            "[[125  37]\n",
            " [ 43  49]]\n"
          ],
          "name": "stdout"
        }
      ]
    },
    {
      "cell_type": "markdown",
      "metadata": {
        "id": "z8FkxRHvPNeR",
        "colab_type": "text"
      },
      "source": [
        "## Naive Bayes\n",
        "O algoritmo Naive Bayes calcula a probabilidade de cada classe e a probabilidade condicional de cada classe, considerando cada valor de entrada. Essas probabilidades são estimadas para novos dados e multiplicadas juntas, assumindo que sejam todas independentes (uma suposição simples ou ingênua). Ao trabalhar com dados com valores reais, supõe-se que eles seguem uma distribuição Gaussiana. Podemos construir um modelo Naive Bayes usando a classe GaussianNB.\n",
        "\n",
        "http://scikit-learn.org/stable/modules/generated/sklearn.naive_bayes.GaussianNB.html"
      ]
    },
    {
      "cell_type": "code",
      "metadata": {
        "id": "JvwFUtlMPNk1",
        "colab_type": "code",
        "outputId": "2078f63b-3157-4371-908f-c714b7916258",
        "colab": {
          "base_uri": "https://localhost:8080/",
          "height": 442
        }
      },
      "source": [
        "# Naive Bayes\n",
        "\n",
        "# Import da função\n",
        "from sklearn.naive_bayes import GaussianNB\n",
        "\n",
        "# Escolhendo o modelo\n",
        "modelo = GaussianNB()\n",
        "\n",
        "# Print dos parâmetros do modelo\n",
        "print(modelo.get_params)\n",
        "print(\"\\n\")\n",
        "\n",
        "# Treinamento e avaliação do modelo\n",
        "treinarAvaliarModelo(modelo)"
      ],
      "execution_count": 0,
      "outputs": [
        {
          "output_type": "stream",
          "text": [
            "<bound method BaseEstimator.get_params of GaussianNB(priors=None, var_smoothing=1e-09)>\n",
            "\n",
            "\n",
            "=== Usando validação cruzada ===\n",
            "Acurácia de treino: 76.29%\n",
            "Acurácia de teste: 75.91%\n",
            "AUC de treino: 82.51%\n",
            "AUC de teste: 81.24%\n",
            "\n",
            "\n",
            "=== Usando particionamento treino-teste ===\n",
            "Acurácia de teste: 74.41%\n",
            "\n",
            "\n",
            "              precision    recall  f1-score   support\n",
            "\n",
            "         0.0       0.80      0.80      0.80       162\n",
            "         1.0       0.65      0.65      0.65        92\n",
            "\n",
            "    accuracy                           0.74       254\n",
            "   macro avg       0.72      0.72      0.72       254\n",
            "weighted avg       0.74      0.74      0.74       254\n",
            "\n",
            "[[129  33]\n",
            " [ 32  60]]\n"
          ],
          "name": "stdout"
        }
      ]
    },
    {
      "cell_type": "markdown",
      "metadata": {
        "id": "FRMGgPk-Q0EZ",
        "colab_type": "text"
      },
      "source": [
        "## Support Vector Machines\n",
        "O SVM busca uma linha que melhor separa duas classes. As instâncias de dados mais próximas desta linha são chamadas vetores de suporte e influenciam onde a linha é colocada. O SVM foi estendido para suportar várias classes e é possível utilizar diferentes funções kernel. Por padrão, é usada e função de base radial. Vamos construir um modelo SVM usando a classe SVC.\n",
        "\n",
        "http://scikit-learn.org/stable/modules/generated/sklearn.svm.SVC.html\n",
        "\n",
        "http://scikit-learn.org/stable/modules/svm.html"
      ]
    },
    {
      "cell_type": "code",
      "metadata": {
        "id": "2B1-PEmsQ3A1",
        "colab_type": "code",
        "outputId": "a2fd16b4-8b38-4a8e-91c6-8461e4e4d7d3",
        "colab": {
          "base_uri": "https://localhost:8080/",
          "height": 782
        }
      },
      "source": [
        "# SVM com kernel linear\n",
        "\n",
        "# Import da função\n",
        "from sklearn.svm import SVC\n",
        "\n",
        "# Escolhendo o modelo\n",
        "modelo = SVC(gamma='auto',kernel = 'linear')\n",
        "\n",
        "# Print dos parâmetros do modelo\n",
        "print(modelo.get_params)\n",
        "print(\"\\n\")\n",
        "\n",
        "# Treinamento e avaliação do modelo\n",
        "treinarAvaliarModelo(modelo)\n",
        "\n",
        "# Imprimindo os vetores de suporte\n",
        "print(\"\\n\")\n",
        "print (modelo.support_)"
      ],
      "execution_count": 0,
      "outputs": [
        {
          "output_type": "stream",
          "text": [
            "<bound method BaseEstimator.get_params of SVC(C=1.0, cache_size=200, class_weight=None, coef0=0.0,\n",
            "    decision_function_shape='ovr', degree=3, gamma='auto', kernel='linear',\n",
            "    max_iter=-1, probability=False, random_state=None, shrinking=True,\n",
            "    tol=0.001, verbose=False)>\n",
            "\n",
            "\n",
            "=== Usando validação cruzada ===\n",
            "Acurácia de treino: 77.62%\n",
            "Acurácia de teste: 77.08%\n",
            "AUC de treino: 83.90%\n",
            "AUC de teste: 82.73%\n",
            "\n",
            "\n",
            "=== Usando particionamento treino-teste ===\n",
            "Acurácia de teste: 78.35%\n",
            "\n",
            "\n",
            "              precision    recall  f1-score   support\n",
            "\n",
            "         0.0       0.80      0.89      0.84       162\n",
            "         1.0       0.75      0.60      0.67        92\n",
            "\n",
            "    accuracy                           0.78       254\n",
            "   macro avg       0.77      0.74      0.75       254\n",
            "weighted avg       0.78      0.78      0.78       254\n",
            "\n",
            "[[144  18]\n",
            " [ 37  55]]\n",
            "\n",
            "\n",
            "[  2   6  12  17  20  25  27  29  35  43  46  47  54  59  60  63  65  73\n",
            "  74  78  83  94  96 100 103 108 117 120 121 122 126 136 138 139 141 144\n",
            " 148 153 156 157 162 167 172 175 180 182 183 192 202 203 211 214 215 216\n",
            " 217 224 227 231 235 241 248 250 253 255 256 260 261 266 267 270 271 273\n",
            " 275 276 277 280 283 284 288 299 302 304 313 314 315 317 318 322 331 337\n",
            " 340 344 351 354 361 365 366 369 372 375 378 380 392 393 395 400 402 403\n",
            " 408 411 415 424 425 431 433 435 438 440 446 447 453 458 465 468 479 486\n",
            " 487 488 491 497 501 508  10  14  23  36  37  42  48  51  52  53  57  62\n",
            "  64  68  70  79  80  85  87  89  90  97 101 104 106 110 111 113 119 124\n",
            " 132 133 134 142 146 152 155 169 173 177 185 186 189 191 194 196 197 204\n",
            " 206 208 212 219 221 223 226 228 230 233 234 236 237 238 239 245 246 247\n",
            " 254 257 259 262 281 282 285 289 290 292 294 295 306 307 310 311 312 319\n",
            " 321 323 325 327 330 333 335 336 338 341 342 345 347 350 357 368 373 397\n",
            " 399 407 413 414 417 418 427 428 441 443 444 449 450 451 452 455 461 462\n",
            " 467 469 473 480 482 489 490 498 500 502 503 510]\n"
          ],
          "name": "stdout"
        }
      ]
    },
    {
      "cell_type": "code",
      "metadata": {
        "id": "rdbxSxj2pa1s",
        "colab_type": "code",
        "outputId": "264f2cda-0bc4-4e89-daa1-614f2db8867a",
        "colab": {
          "base_uri": "https://localhost:8080/",
          "height": 1000
        }
      },
      "source": [
        "# SVM com kernel RBF (funciona bem para dados não linearmente separáveis, mas pode aprender demais sobre os dados - overfitting)\n",
        "\n",
        "# Import da função e do pacote metrics\n",
        "from sklearn.svm import SVC\n",
        "from sklearn import metrics\n",
        "\n",
        "# Escolhendo o modelo\n",
        "modelo = SVC(gamma='auto', kernel = 'rbf')\n",
        "\n",
        "# Print dos parâmetros do modelo\n",
        "print(modelo.get_params)\n",
        "print(\"\\n\")\n",
        "\n",
        "# Treinamento e avaliação do modelo\n",
        "treinarAvaliarModelo(modelo)\n",
        "\n",
        "# Imprimindo os vetores de suporte\n",
        "print(\"\\n\")\n",
        "print (modelo.support_)"
      ],
      "execution_count": 0,
      "outputs": [
        {
          "output_type": "stream",
          "text": [
            "<bound method BaseEstimator.get_params of SVC(C=1.0, cache_size=200, class_weight=None, coef0=0.0,\n",
            "    decision_function_shape='ovr', degree=3, gamma='auto', kernel='rbf',\n",
            "    max_iter=-1, probability=False, random_state=None, shrinking=True,\n",
            "    tol=0.001, verbose=False)>\n",
            "\n",
            "\n",
            "=== Usando validação cruzada ===\n",
            "Acurácia de treino: 100.00%\n",
            "Acurácia de teste: 65.11%\n",
            "AUC de treino: 100.00%\n",
            "AUC de teste: 62.98%\n",
            "\n",
            "\n",
            "=== Usando particionamento treino-teste ===\n",
            "Acurácia de teste: 63.78%\n",
            "\n",
            "\n",
            "              precision    recall  f1-score   support\n",
            "\n",
            "         0.0       0.64      1.00      0.78       162\n",
            "         1.0       0.00      0.00      0.00        92\n",
            "\n",
            "    accuracy                           0.64       254\n",
            "   macro avg       0.32      0.50      0.39       254\n",
            "weighted avg       0.41      0.64      0.50       254\n",
            "\n",
            "[[162   0]\n",
            " [ 92   0]]\n",
            "\n",
            "\n",
            "[  0   1   2   3   4   5   6   7   8   9  12  13  15  16  17  18  19  20\n",
            "  22  24  25  27  29  30  31  32  33  34  35  38  39  40  43  44  45  46\n",
            "  47  49  50  54  55  56  58  59  60  63  65  66  67  69  73  74  75  76\n",
            "  77  78  81  82  83  84  86  88  91  92  93  94  95  96  99 100 102 103\n",
            " 105 108 109 112 114 115 116 117 118 120 121 122 125 126 127 129 130 131\n",
            " 135 136 137 138 139 140 141 143 144 147 148 149 150 151 153 154 156 157\n",
            " 158 159 160 161 162 163 164 165 166 167 170 171 172 174 175 176 178 179\n",
            " 180 182 183 184 190 192 193 195 198 199 200 201 202 203 205 209 211 214\n",
            " 215 216 217 220 224 225 227 229 231 232 235 240 241 242 243 244 248 250\n",
            " 251 252 253 255 256 258 260 261 263 264 266 267 268 269 270 271 272 273\n",
            " 274 275 276 277 278 279 280 283 284 286 287 288 291 297 298 299 300 301\n",
            " 302 303 304 305 308 309 313 314 315 317 318 320 322 326 328 329 331 332\n",
            " 334 337 339 340 344 346 348 349 351 352 353 354 355 356 358 359 361 362\n",
            " 363 364 365 366 367 369 370 371 372 374 375 376 377 378 380 381 382 383\n",
            " 384 385 387 388 389 390 391 392 393 394 395 396 398 400 401 402 403 404\n",
            " 405 408 410 411 412 415 416 419 421 422 423 424 425 426 429 430 431 432\n",
            " 433 434 435 436 437 438 439 440 442 445 446 447 448 453 454 457 458 459\n",
            " 463 464 465 468 470 471 474 475 476 477 478 479 481 483 484 486 487 488\n",
            " 491 492 493 495 496 497 499 501 504 506 507 508 511 512  10  11  14  21\n",
            "  23  26  28  36  37  41  42  48  51  52  53  57  61  62  64  68  70  71\n",
            "  72  79  80  85  87  89  90  97  98 101 104 106 107 110 111 113 119 123\n",
            " 124 128 132 133 134 142 145 146 152 155 168 169 173 177 181 185 186 187\n",
            " 188 189 191 194 196 197 204 206 207 208 210 212 213 218 219 221 222 223\n",
            " 226 228 230 233 234 236 237 238 239 245 246 247 249 254 257 259 262 265\n",
            " 281 282 285 289 290 292 293 294 295 296 306 307 310 311 312 316 319 321\n",
            " 323 324 325 327 330 333 335 336 338 341 342 343 345 347 350 357 360 368\n",
            " 373 379 386 397 399 406 407 409 413 414 417 418 420 427 428 441 443 444\n",
            " 449 450 451 452 455 456 460 461 462 466 467 469 472 473 480 482 485 489\n",
            " 490 494 498 500 502 503 505 509 510 513]\n"
          ],
          "name": "stdout"
        },
        {
          "output_type": "stream",
          "text": [
            "/usr/local/lib/python3.6/dist-packages/sklearn/metrics/classification.py:1437: UndefinedMetricWarning: Precision and F-score are ill-defined and being set to 0.0 in labels with no predicted samples.\n",
            "  'precision', 'predicted', average, warn_for)\n"
          ],
          "name": "stderr"
        }
      ]
    },
    {
      "cell_type": "markdown",
      "metadata": {
        "id": "UNyFsV6h1vjV",
        "colab_type": "text"
      },
      "source": [
        "# Tuning Automático de Hiperparâmetros\n",
        "Podemos avaliar de forma fácil diversas variações de parâmetros de algoritmos usando a função *GridSearchCV*. Para tal, vamos criar uma função de tuning que recebe um modelo, um conjunto de parâmetros, a métrica de avaliação e o número de folds. Esta função irá imprimir o modelo com o melhor resultado.\n",
        "\n",
        "https://scikit-learn.org/stable/modules/generated/sklearn.model_selection.GridSearchCV.html\n",
        "\n",
        "https://scikit-learn.org/stable/modules/grid_search.html"
      ]
    },
    {
      "cell_type": "markdown",
      "metadata": {
        "id": "wPTIw-bmjC_l",
        "colab_type": "text"
      },
      "source": [
        "Vamos padronizar os dados e trabalhar com validação cruzada 10-fold. "
      ]
    },
    {
      "cell_type": "code",
      "metadata": {
        "id": "YVlAYayqIx5l",
        "colab_type": "code",
        "colab": {}
      },
      "source": [
        "# Import das funções\n",
        "from sklearn.model_selection import GridSearchCV\n",
        "from sklearn.preprocessing import StandardScaler\n",
        "\n",
        "# Padronização dos dados\n",
        "scaler = StandardScaler().fit(X)\n",
        "X_padronizado = scaler.transform(X)\n",
        "\n",
        "# Definição dos valores para os folds e seed\n",
        "num_folds = 10\n",
        "seed = 7\n",
        "\n",
        "# Separando os dados em folds\n",
        "kfold = KFold(n_splits=num_folds, random_state=seed)"
      ],
      "execution_count": 0,
      "outputs": []
    },
    {
      "cell_type": "code",
      "metadata": {
        "id": "8R_6JMtVJ4E9",
        "colab_type": "code",
        "colab": {}
      },
      "source": [
        "def tuningHiperparametros (modelo, param_grid, scoring, kfold):\n",
        "  \n",
        "  # Avaliação de todas as combinações\n",
        "  grid = GridSearchCV(estimator=modelo, param_grid=param_grid, scoring=scoring, cv=kfold,\n",
        "      iid=True)\n",
        "  grid_result = grid.fit(X_padronizado, Y)\n",
        "\n",
        "  # Imprime o modelo com o melhor resultado\n",
        "  print(\"Melhor: %f com %s\" % (grid_result.best_score_, grid_result.best_params_)) \n",
        "\n",
        "  # Imprime todos os resultados\n",
        "  means = grid_result.cv_results_['mean_test_score']\n",
        "  stds = grid_result.cv_results_['std_test_score']\n",
        "  params = grid_result.cv_results_['params']\n",
        "  for mean, stdev, param in zip(means, stds, params):\n",
        "      print(\"%f (%f) com: %r\" % (mean, stdev, param))\n",
        "  return;"
      ],
      "execution_count": 0,
      "outputs": []
    },
    {
      "cell_type": "markdown",
      "metadata": {
        "id": "efTsYC_BKYYW",
        "colab_type": "text"
      },
      "source": [
        "Iremos variar os hiperparâmetros dos modelos: Árvore de Decisão, KNN e SVM. No NaiveBayes não há muito que variar."
      ]
    },
    {
      "cell_type": "markdown",
      "metadata": {
        "id": "nC7QwtAoNjWB",
        "colab_type": "text"
      },
      "source": [
        "## Árvores de Decisão\n",
        "Vamos testar os critérios gini e entropia e variar o tamanho máximo da árvore e o mínimo de exemplos em cada nó folha."
      ]
    },
    {
      "cell_type": "code",
      "metadata": {
        "id": "rLsTjqrXLcDW",
        "colab_type": "code",
        "outputId": "be5ee9ab-759f-4c18-b6bf-b10a0b920288",
        "colab": {
          "base_uri": "https://localhost:8080/",
          "height": 1000
        }
      },
      "source": [
        "# Definição dos possíveis valores de hiperparâmetros\n",
        "criterios = ['gini', 'entropy']\n",
        "max_depth = [3,5,10,20,30,40,50]\n",
        "min_samples_leaf = [3,5,10,20,30,40,50]\n",
        "param_grid = dict(criterion=criterios, min_samples_leaf=min_samples_leaf, max_depth=max_depth)\n",
        "\n",
        "# Escolha do modelo\n",
        "modelo = DecisionTreeClassifier()\n",
        "\n",
        "# Definição da métrica de avaliação\n",
        "scoring = 'accuracy'\n",
        "#scoring = 'roc_auc'\n",
        "\n",
        "# Avaliação de todas as combinações e impressão dos resultados\n",
        "tuningHiperparametros(modelo, param_grid, scoring, kfold)"
      ],
      "execution_count": 0,
      "outputs": [
        {
          "output_type": "stream",
          "text": [
            "Melhor: 0.768229 com {'criterion': 'gini', 'max_depth': 5, 'min_samples_leaf': 30}\n",
            "0.744792 (0.067192) com: {'criterion': 'gini', 'max_depth': 3, 'min_samples_leaf': 3}\n",
            "0.744792 (0.067192) com: {'criterion': 'gini', 'max_depth': 3, 'min_samples_leaf': 5}\n",
            "0.747396 (0.065277) com: {'criterion': 'gini', 'max_depth': 3, 'min_samples_leaf': 10}\n",
            "0.750000 (0.063736) com: {'criterion': 'gini', 'max_depth': 3, 'min_samples_leaf': 20}\n",
            "0.751302 (0.061211) com: {'criterion': 'gini', 'max_depth': 3, 'min_samples_leaf': 30}\n",
            "0.753906 (0.064729) com: {'criterion': 'gini', 'max_depth': 3, 'min_samples_leaf': 40}\n",
            "0.755208 (0.063515) com: {'criterion': 'gini', 'max_depth': 3, 'min_samples_leaf': 50}\n",
            "0.742188 (0.073153) com: {'criterion': 'gini', 'max_depth': 5, 'min_samples_leaf': 3}\n",
            "0.744792 (0.081988) com: {'criterion': 'gini', 'max_depth': 5, 'min_samples_leaf': 5}\n",
            "0.757812 (0.081377) com: {'criterion': 'gini', 'max_depth': 5, 'min_samples_leaf': 10}\n",
            "0.755208 (0.090481) com: {'criterion': 'gini', 'max_depth': 5, 'min_samples_leaf': 20}\n",
            "0.768229 (0.068368) com: {'criterion': 'gini', 'max_depth': 5, 'min_samples_leaf': 30}\n",
            "0.752604 (0.076233) com: {'criterion': 'gini', 'max_depth': 5, 'min_samples_leaf': 40}\n",
            "0.730469 (0.069908) com: {'criterion': 'gini', 'max_depth': 5, 'min_samples_leaf': 50}\n",
            "0.712240 (0.056492) com: {'criterion': 'gini', 'max_depth': 10, 'min_samples_leaf': 3}\n",
            "0.718750 (0.065971) com: {'criterion': 'gini', 'max_depth': 10, 'min_samples_leaf': 5}\n",
            "0.738281 (0.060961) com: {'criterion': 'gini', 'max_depth': 10, 'min_samples_leaf': 10}\n",
            "0.763021 (0.091074) com: {'criterion': 'gini', 'max_depth': 10, 'min_samples_leaf': 20}\n",
            "0.747396 (0.072964) com: {'criterion': 'gini', 'max_depth': 10, 'min_samples_leaf': 30}\n",
            "0.752604 (0.076233) com: {'criterion': 'gini', 'max_depth': 10, 'min_samples_leaf': 40}\n",
            "0.730469 (0.069908) com: {'criterion': 'gini', 'max_depth': 10, 'min_samples_leaf': 50}\n",
            "0.707031 (0.049195) com: {'criterion': 'gini', 'max_depth': 20, 'min_samples_leaf': 3}\n",
            "0.718750 (0.058333) com: {'criterion': 'gini', 'max_depth': 20, 'min_samples_leaf': 5}\n",
            "0.740885 (0.060346) com: {'criterion': 'gini', 'max_depth': 20, 'min_samples_leaf': 10}\n",
            "0.763021 (0.091074) com: {'criterion': 'gini', 'max_depth': 20, 'min_samples_leaf': 20}\n",
            "0.747396 (0.072964) com: {'criterion': 'gini', 'max_depth': 20, 'min_samples_leaf': 30}\n",
            "0.752604 (0.076233) com: {'criterion': 'gini', 'max_depth': 20, 'min_samples_leaf': 40}\n",
            "0.730469 (0.069908) com: {'criterion': 'gini', 'max_depth': 20, 'min_samples_leaf': 50}\n",
            "0.696615 (0.056246) com: {'criterion': 'gini', 'max_depth': 30, 'min_samples_leaf': 3}\n",
            "0.713542 (0.064518) com: {'criterion': 'gini', 'max_depth': 30, 'min_samples_leaf': 5}\n",
            "0.734375 (0.065401) com: {'criterion': 'gini', 'max_depth': 30, 'min_samples_leaf': 10}\n",
            "0.761719 (0.094034) com: {'criterion': 'gini', 'max_depth': 30, 'min_samples_leaf': 20}\n",
            "0.747396 (0.072964) com: {'criterion': 'gini', 'max_depth': 30, 'min_samples_leaf': 30}\n",
            "0.752604 (0.076233) com: {'criterion': 'gini', 'max_depth': 30, 'min_samples_leaf': 40}\n",
            "0.730469 (0.069908) com: {'criterion': 'gini', 'max_depth': 30, 'min_samples_leaf': 50}\n",
            "0.701823 (0.056562) com: {'criterion': 'gini', 'max_depth': 40, 'min_samples_leaf': 3}\n",
            "0.707031 (0.061643) com: {'criterion': 'gini', 'max_depth': 40, 'min_samples_leaf': 5}\n",
            "0.736979 (0.059837) com: {'criterion': 'gini', 'max_depth': 40, 'min_samples_leaf': 10}\n",
            "0.761719 (0.094034) com: {'criterion': 'gini', 'max_depth': 40, 'min_samples_leaf': 20}\n",
            "0.747396 (0.072964) com: {'criterion': 'gini', 'max_depth': 40, 'min_samples_leaf': 30}\n",
            "0.752604 (0.076233) com: {'criterion': 'gini', 'max_depth': 40, 'min_samples_leaf': 40}\n",
            "0.730469 (0.069908) com: {'criterion': 'gini', 'max_depth': 40, 'min_samples_leaf': 50}\n",
            "0.696615 (0.056045) com: {'criterion': 'gini', 'max_depth': 50, 'min_samples_leaf': 3}\n",
            "0.710938 (0.064778) com: {'criterion': 'gini', 'max_depth': 50, 'min_samples_leaf': 5}\n",
            "0.736979 (0.066097) com: {'criterion': 'gini', 'max_depth': 50, 'min_samples_leaf': 10}\n",
            "0.761719 (0.094034) com: {'criterion': 'gini', 'max_depth': 50, 'min_samples_leaf': 20}\n",
            "0.747396 (0.072964) com: {'criterion': 'gini', 'max_depth': 50, 'min_samples_leaf': 30}\n",
            "0.752604 (0.076233) com: {'criterion': 'gini', 'max_depth': 50, 'min_samples_leaf': 40}\n",
            "0.730469 (0.069908) com: {'criterion': 'gini', 'max_depth': 50, 'min_samples_leaf': 50}\n",
            "0.748698 (0.061137) com: {'criterion': 'entropy', 'max_depth': 3, 'min_samples_leaf': 3}\n",
            "0.748698 (0.061137) com: {'criterion': 'entropy', 'max_depth': 3, 'min_samples_leaf': 5}\n",
            "0.748698 (0.061137) com: {'criterion': 'entropy', 'max_depth': 3, 'min_samples_leaf': 10}\n",
            "0.748698 (0.061137) com: {'criterion': 'entropy', 'max_depth': 3, 'min_samples_leaf': 20}\n",
            "0.748698 (0.061137) com: {'criterion': 'entropy', 'max_depth': 3, 'min_samples_leaf': 30}\n",
            "0.748698 (0.060859) com: {'criterion': 'entropy', 'max_depth': 3, 'min_samples_leaf': 40}\n",
            "0.750000 (0.059681) com: {'criterion': 'entropy', 'max_depth': 3, 'min_samples_leaf': 50}\n",
            "0.739583 (0.069148) com: {'criterion': 'entropy', 'max_depth': 5, 'min_samples_leaf': 3}\n",
            "0.734375 (0.068331) com: {'criterion': 'entropy', 'max_depth': 5, 'min_samples_leaf': 5}\n",
            "0.752604 (0.081585) com: {'criterion': 'entropy', 'max_depth': 5, 'min_samples_leaf': 10}\n",
            "0.751302 (0.071098) com: {'criterion': 'entropy', 'max_depth': 5, 'min_samples_leaf': 20}\n",
            "0.757812 (0.076039) com: {'criterion': 'entropy', 'max_depth': 5, 'min_samples_leaf': 30}\n",
            "0.757812 (0.080153) com: {'criterion': 'entropy', 'max_depth': 5, 'min_samples_leaf': 40}\n",
            "0.738281 (0.072043) com: {'criterion': 'entropy', 'max_depth': 5, 'min_samples_leaf': 50}\n",
            "0.707031 (0.069044) com: {'criterion': 'entropy', 'max_depth': 10, 'min_samples_leaf': 3}\n",
            "0.696615 (0.057927) com: {'criterion': 'entropy', 'max_depth': 10, 'min_samples_leaf': 5}\n",
            "0.730469 (0.069063) com: {'criterion': 'entropy', 'max_depth': 10, 'min_samples_leaf': 10}\n",
            "0.753906 (0.078095) com: {'criterion': 'entropy', 'max_depth': 10, 'min_samples_leaf': 20}\n",
            "0.739583 (0.072380) com: {'criterion': 'entropy', 'max_depth': 10, 'min_samples_leaf': 30}\n",
            "0.751302 (0.083865) com: {'criterion': 'entropy', 'max_depth': 10, 'min_samples_leaf': 40}\n",
            "0.738281 (0.072043) com: {'criterion': 'entropy', 'max_depth': 10, 'min_samples_leaf': 50}\n",
            "0.717448 (0.051287) com: {'criterion': 'entropy', 'max_depth': 20, 'min_samples_leaf': 3}\n",
            "0.696615 (0.060123) com: {'criterion': 'entropy', 'max_depth': 20, 'min_samples_leaf': 5}\n",
            "0.726562 (0.070111) com: {'criterion': 'entropy', 'max_depth': 20, 'min_samples_leaf': 10}\n",
            "0.753906 (0.078095) com: {'criterion': 'entropy', 'max_depth': 20, 'min_samples_leaf': 20}\n",
            "0.739583 (0.072380) com: {'criterion': 'entropy', 'max_depth': 20, 'min_samples_leaf': 30}\n",
            "0.751302 (0.083865) com: {'criterion': 'entropy', 'max_depth': 20, 'min_samples_leaf': 40}\n",
            "0.738281 (0.072043) com: {'criterion': 'entropy', 'max_depth': 20, 'min_samples_leaf': 50}\n",
            "0.709635 (0.065857) com: {'criterion': 'entropy', 'max_depth': 30, 'min_samples_leaf': 3}\n",
            "0.694010 (0.062544) com: {'criterion': 'entropy', 'max_depth': 30, 'min_samples_leaf': 5}\n",
            "0.729167 (0.070444) com: {'criterion': 'entropy', 'max_depth': 30, 'min_samples_leaf': 10}\n",
            "0.753906 (0.078095) com: {'criterion': 'entropy', 'max_depth': 30, 'min_samples_leaf': 20}\n",
            "0.739583 (0.072380) com: {'criterion': 'entropy', 'max_depth': 30, 'min_samples_leaf': 30}\n",
            "0.751302 (0.083865) com: {'criterion': 'entropy', 'max_depth': 30, 'min_samples_leaf': 40}\n",
            "0.738281 (0.072043) com: {'criterion': 'entropy', 'max_depth': 30, 'min_samples_leaf': 50}\n",
            "0.703125 (0.072988) com: {'criterion': 'entropy', 'max_depth': 40, 'min_samples_leaf': 3}\n",
            "0.695312 (0.059214) com: {'criterion': 'entropy', 'max_depth': 40, 'min_samples_leaf': 5}\n",
            "0.726562 (0.071655) com: {'criterion': 'entropy', 'max_depth': 40, 'min_samples_leaf': 10}\n",
            "0.753906 (0.078095) com: {'criterion': 'entropy', 'max_depth': 40, 'min_samples_leaf': 20}\n",
            "0.739583 (0.072380) com: {'criterion': 'entropy', 'max_depth': 40, 'min_samples_leaf': 30}\n",
            "0.751302 (0.083865) com: {'criterion': 'entropy', 'max_depth': 40, 'min_samples_leaf': 40}\n",
            "0.738281 (0.072043) com: {'criterion': 'entropy', 'max_depth': 40, 'min_samples_leaf': 50}\n",
            "0.723958 (0.074727) com: {'criterion': 'entropy', 'max_depth': 50, 'min_samples_leaf': 3}\n",
            "0.697917 (0.051914) com: {'criterion': 'entropy', 'max_depth': 50, 'min_samples_leaf': 5}\n",
            "0.727865 (0.069378) com: {'criterion': 'entropy', 'max_depth': 50, 'min_samples_leaf': 10}\n",
            "0.753906 (0.078095) com: {'criterion': 'entropy', 'max_depth': 50, 'min_samples_leaf': 20}\n",
            "0.739583 (0.072380) com: {'criterion': 'entropy', 'max_depth': 50, 'min_samples_leaf': 30}\n",
            "0.751302 (0.083865) com: {'criterion': 'entropy', 'max_depth': 50, 'min_samples_leaf': 40}\n",
            "0.738281 (0.072043) com: {'criterion': 'entropy', 'max_depth': 50, 'min_samples_leaf': 50}\n"
          ],
          "name": "stdout"
        }
      ]
    },
    {
      "cell_type": "markdown",
      "metadata": {
        "id": "BkcXNl1M1pas",
        "colab_type": "text"
      },
      "source": [
        "## KNN\n",
        "O número padrão de vizinhos (k) para o KNN é 5. Vamos testar todos os valores ímpares entre 1 a 21 para k, cobrindo o valor padrão de 5 e 3 diferentes medidas de distância."
      ]
    },
    {
      "cell_type": "code",
      "metadata": {
        "id": "wHj02w511pqm",
        "colab_type": "code",
        "outputId": "0ff91705-e8de-4dd4-9733-65996a08570f",
        "colab": {
          "base_uri": "https://localhost:8080/",
          "height": 595
        }
      },
      "source": [
        "# Definição dos possíveis valores de hiperparâmetros\n",
        "k = [1,3,5,7,9,11,13,15,17,19,21]\n",
        "distancias = [\"euclidean\", \"manhattan\", \"minkowski\"]\n",
        "param_grid = dict(n_neighbors=k, metric=distancias)\n",
        "\n",
        "# Escolha do modelo\n",
        "modelo = KNeighborsClassifier()\n",
        "\n",
        "# Definição da métrica de avaliação\n",
        "scoring = 'accuracy'\n",
        "#scoring = 'roc_auc'\n",
        "\n",
        "# Avaliação de todas as combinações e impressão dos resultados\n",
        "tuningHiperparametros(modelo, param_grid, scoring, kfold)"
      ],
      "execution_count": 0,
      "outputs": [
        {
          "output_type": "stream",
          "text": [
            "Melhor: 0.761719 com {'metric': 'euclidean', 'n_neighbors': 21}\n",
            "0.708333 (0.054371) com: {'metric': 'euclidean', 'n_neighbors': 1}\n",
            "0.746094 (0.066029) com: {'metric': 'euclidean', 'n_neighbors': 3}\n",
            "0.742188 (0.071583) com: {'metric': 'euclidean', 'n_neighbors': 5}\n",
            "0.742188 (0.068443) com: {'metric': 'euclidean', 'n_neighbors': 7}\n",
            "0.743490 (0.071178) com: {'metric': 'euclidean', 'n_neighbors': 9}\n",
            "0.747396 (0.053738) com: {'metric': 'euclidean', 'n_neighbors': 11}\n",
            "0.746094 (0.048545) com: {'metric': 'euclidean', 'n_neighbors': 13}\n",
            "0.739583 (0.054897) com: {'metric': 'euclidean', 'n_neighbors': 15}\n",
            "0.743490 (0.062820) com: {'metric': 'euclidean', 'n_neighbors': 17}\n",
            "0.760417 (0.064617) com: {'metric': 'euclidean', 'n_neighbors': 19}\n",
            "0.761719 (0.074144) com: {'metric': 'euclidean', 'n_neighbors': 21}\n",
            "0.694010 (0.042855) com: {'metric': 'manhattan', 'n_neighbors': 1}\n",
            "0.721354 (0.069181) com: {'metric': 'manhattan', 'n_neighbors': 3}\n",
            "0.733073 (0.065550) com: {'metric': 'manhattan', 'n_neighbors': 5}\n",
            "0.739583 (0.072673) com: {'metric': 'manhattan', 'n_neighbors': 7}\n",
            "0.756510 (0.051447) com: {'metric': 'manhattan', 'n_neighbors': 9}\n",
            "0.750000 (0.059339) com: {'metric': 'manhattan', 'n_neighbors': 11}\n",
            "0.751302 (0.053424) com: {'metric': 'manhattan', 'n_neighbors': 13}\n",
            "0.751302 (0.061147) com: {'metric': 'manhattan', 'n_neighbors': 15}\n",
            "0.751302 (0.058672) com: {'metric': 'manhattan', 'n_neighbors': 17}\n",
            "0.752604 (0.057770) com: {'metric': 'manhattan', 'n_neighbors': 19}\n",
            "0.757812 (0.063614) com: {'metric': 'manhattan', 'n_neighbors': 21}\n",
            "0.708333 (0.054371) com: {'metric': 'minkowski', 'n_neighbors': 1}\n",
            "0.746094 (0.066029) com: {'metric': 'minkowski', 'n_neighbors': 3}\n",
            "0.742188 (0.071583) com: {'metric': 'minkowski', 'n_neighbors': 5}\n",
            "0.742188 (0.068443) com: {'metric': 'minkowski', 'n_neighbors': 7}\n",
            "0.743490 (0.071178) com: {'metric': 'minkowski', 'n_neighbors': 9}\n",
            "0.747396 (0.053738) com: {'metric': 'minkowski', 'n_neighbors': 11}\n",
            "0.746094 (0.048545) com: {'metric': 'minkowski', 'n_neighbors': 13}\n",
            "0.739583 (0.054897) com: {'metric': 'minkowski', 'n_neighbors': 15}\n",
            "0.743490 (0.062820) com: {'metric': 'minkowski', 'n_neighbors': 17}\n",
            "0.760417 (0.064617) com: {'metric': 'minkowski', 'n_neighbors': 19}\n",
            "0.761719 (0.074144) com: {'metric': 'minkowski', 'n_neighbors': 21}\n"
          ],
          "name": "stdout"
        }
      ]
    },
    {
      "cell_type": "markdown",
      "metadata": {
        "id": "ya1f4vEd2OoU",
        "colab_type": "text"
      },
      "source": [
        "## SVM\n",
        "Podemos ajustar dois parâmetros principais do algoritmo SVM, o valor de C (o quanto flexibilizar a margem) e o tipo de kernel. O padrão para o SVM (classe SVC) é usar o kernel da Função Base Base Radial (RBF) com um valor C definido como 1.0. Vamos testar vários tipos de kernel e valores C com menos viés e mais viés (menor que e maior que 1,0, respectivamente)."
      ]
    },
    {
      "cell_type": "code",
      "metadata": {
        "id": "7VZmpIPu2Ow3",
        "colab_type": "code",
        "outputId": "0f2595cb-ea48-4cda-a991-4942634e4c2d",
        "colab": {
          "base_uri": "https://localhost:8080/",
          "height": 714
        }
      },
      "source": [
        "# Definição dos possíveis valores de hiperparâmetros\n",
        "c_values = [0.1, 0.3, 0.5, 0.7, 0.9, 1.0, 1.3, 1.5, 1.7, 2.0]\n",
        "kernel_values = ['linear', 'poly', 'rbf', 'sigmoid']\n",
        "param_grid = dict(C=c_values, kernel=kernel_values)\n",
        "\n",
        "# Escolha do modelo\n",
        "modelo = SVC(gamma='auto')\n",
        "\n",
        "# Definição da métrica de avaliação\n",
        "scoring = 'accuracy'\n",
        "#scoring = 'roc_auc'\n",
        "\n",
        "# Avaliação de todas as combinações e impressão dos resultados\n",
        "tuningHiperparametros(modelo, param_grid, scoring, kfold)"
      ],
      "execution_count": 0,
      "outputs": [
        {
          "output_type": "stream",
          "text": [
            "Melhor: 0.774740 com {'C': 1.5, 'kernel': 'linear'}\n",
            "0.773438 (0.048948) com: {'C': 0.1, 'kernel': 'linear'}\n",
            "0.718750 (0.052248) com: {'C': 0.1, 'kernel': 'poly'}\n",
            "0.755208 (0.053681) com: {'C': 0.1, 'kernel': 'rbf'}\n",
            "0.755208 (0.056916) com: {'C': 0.1, 'kernel': 'sigmoid'}\n",
            "0.772135 (0.045249) com: {'C': 0.3, 'kernel': 'linear'}\n",
            "0.733073 (0.051177) com: {'C': 0.3, 'kernel': 'poly'}\n",
            "0.772135 (0.061996) com: {'C': 0.3, 'kernel': 'rbf'}\n",
            "0.730469 (0.044574) com: {'C': 0.3, 'kernel': 'sigmoid'}\n",
            "0.770833 (0.047759) com: {'C': 0.5, 'kernel': 'linear'}\n",
            "0.735677 (0.049609) com: {'C': 0.5, 'kernel': 'poly'}\n",
            "0.769531 (0.059389) com: {'C': 0.5, 'kernel': 'rbf'}\n",
            "0.718750 (0.045850) com: {'C': 0.5, 'kernel': 'sigmoid'}\n",
            "0.773438 (0.045619) com: {'C': 0.7, 'kernel': 'linear'}\n",
            "0.740885 (0.045356) com: {'C': 0.7, 'kernel': 'poly'}\n",
            "0.769531 (0.059673) com: {'C': 0.7, 'kernel': 'rbf'}\n",
            "0.712240 (0.049995) com: {'C': 0.7, 'kernel': 'sigmoid'}\n",
            "0.773438 (0.045619) com: {'C': 0.9, 'kernel': 'linear'}\n",
            "0.740885 (0.042559) com: {'C': 0.9, 'kernel': 'poly'}\n",
            "0.765625 (0.053821) com: {'C': 0.9, 'kernel': 'rbf'}\n",
            "0.710938 (0.050616) com: {'C': 0.9, 'kernel': 'sigmoid'}\n",
            "0.773438 (0.045619) com: {'C': 1.0, 'kernel': 'linear'}\n",
            "0.746094 (0.042059) com: {'C': 1.0, 'kernel': 'poly'}\n",
            "0.764323 (0.056996) com: {'C': 1.0, 'kernel': 'rbf'}\n",
            "0.703125 (0.043175) com: {'C': 1.0, 'kernel': 'sigmoid'}\n",
            "0.773438 (0.045619) com: {'C': 1.3, 'kernel': 'linear'}\n",
            "0.752604 (0.043930) com: {'C': 1.3, 'kernel': 'poly'}\n",
            "0.764323 (0.054387) com: {'C': 1.3, 'kernel': 'rbf'}\n",
            "0.708333 (0.043706) com: {'C': 1.3, 'kernel': 'sigmoid'}\n",
            "0.774740 (0.045870) com: {'C': 1.5, 'kernel': 'linear'}\n",
            "0.752604 (0.041042) com: {'C': 1.5, 'kernel': 'poly'}\n",
            "0.761719 (0.052329) com: {'C': 1.5, 'kernel': 'rbf'}\n",
            "0.694010 (0.048211) com: {'C': 1.5, 'kernel': 'sigmoid'}\n",
            "0.774740 (0.045870) com: {'C': 1.7, 'kernel': 'linear'}\n",
            "0.753906 (0.044117) com: {'C': 1.7, 'kernel': 'poly'}\n",
            "0.768229 (0.051929) com: {'C': 1.7, 'kernel': 'rbf'}\n",
            "0.697917 (0.045333) com: {'C': 1.7, 'kernel': 'sigmoid'}\n",
            "0.774740 (0.045870) com: {'C': 2.0, 'kernel': 'linear'}\n",
            "0.753906 (0.044499) com: {'C': 2.0, 'kernel': 'poly'}\n",
            "0.769531 (0.052025) com: {'C': 2.0, 'kernel': 'rbf'}\n",
            "0.701823 (0.043630) com: {'C': 2.0, 'kernel': 'sigmoid'}\n"
          ],
          "name": "stdout"
        }
      ]
    },
    {
      "cell_type": "markdown",
      "metadata": {
        "id": "zm1x2PSMT4Q9",
        "colab_type": "text"
      },
      "source": [
        "# Comparação gráfica de algoritmos"
      ]
    },
    {
      "cell_type": "markdown",
      "metadata": {
        "id": "TPNwZ_uXRiyl",
        "colab_type": "text"
      },
      "source": [
        "Quando trabalhamos em projetos de Machine Learning, geralmente temos vários bons modelos para escolher. Cada modelo terá características de desempenho diferentes. É importante usar várias métricas diferentes para avaliar os algoritmos.\n",
        "\n",
        "Para que seja feita uma comparação justa, é preciso garantir que cada algoritmo seja avaliado da mesma maneira nos mesmos dados. É importante usar a mesma semente aleatória para garantir que as mesmas divisões nos dados de treinamento sejam executadas e que cada algoritmo seja avaliado precisamente da mesma maneira.\n",
        "\n",
        "Neste exemplo, iremos avaliar diversos modelos usando uma representação gráfica."
      ]
    },
    {
      "cell_type": "code",
      "metadata": {
        "id": "AtmuzqWURyGw",
        "colab_type": "code",
        "outputId": "c69d8986-59ac-463f-fb96-1fbc7908f42b",
        "colab": {
          "base_uri": "https://localhost:8080/",
          "height": 362
        }
      },
      "source": [
        "# Comparação de Algortimos\n",
        "\n",
        "# Import da função\n",
        "from matplotlib import pyplot\n",
        "\n",
        "# Lista de modelos a avaliar\n",
        "modelos = []\n",
        "# Aqui, poderíamos criar o modelo já parametrizado com os melhores hiperparâmetros da seção anterior\n",
        "modelos.append(('CART', DecisionTreeClassifier()))\n",
        "modelos.append(('KNN', KNeighborsClassifier()))\n",
        "modelos.append(('NB', GaussianNB()))\n",
        "modelos.append(('SVM', SVC(gamma='auto')))\n",
        "\n",
        "# Treinamento e avaliação de cada modelo\n",
        "results = []\n",
        "names = []\n",
        "scoring = 'accuracy'\n",
        "for name, model in modelos:\n",
        "  kfold = KFold(n_splits=10, random_state=7)\n",
        "  cv_results = cross_val_score(model, X_padronizado, Y, cv=kfold, scoring=scoring)\n",
        "  results.append(cv_results)\n",
        "  names.append(name)\n",
        "  msg = \"%s: %f (%f)\" % (name, cv_results.mean(), cv_results.std())\n",
        "  print(msg)\n",
        "  \n",
        "# Comparação dos algoritmos em boxplot\n",
        "fig = pyplot.figure() \n",
        "fig.suptitle('Comparação dos algoritmos') \n",
        "ax = fig.add_subplot(111) \n",
        "pyplot.boxplot(results) \n",
        "ax.set_xticklabels(names) \n",
        "pyplot.show()"
      ],
      "execution_count": 0,
      "outputs": [
        {
          "output_type": "stream",
          "text": [
            "CART: 0.688773 (0.069996)\n",
            "KNN: 0.742139 (0.071500)\n",
            "NB: 0.755178 (0.042766)\n",
            "SVM: 0.764286 (0.056962)\n"
          ],
          "name": "stdout"
        },
        {
          "output_type": "display_data",
          "data": {
            "image/png": "[encoded data removed]",
            "text/plain": [
              "<Figure size 432x288 with 1 Axes>"
            ]
          },
          "metadata": {
            "tags": []
          }
        }
      ]
    }
  ]
}