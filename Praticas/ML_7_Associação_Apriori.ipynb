{
  "nbformat": 4,
  "nbformat_minor": 0,
  "metadata": {
    "colab": {
      "name": "ML - 7. Associação_Apriori.ipynb",
      "provenance": []
    },
    "kernelspec": {
      "name": "python3",
      "display_name": "Python 3"
    }
  },
  "cells": [
    {
      "cell_type": "markdown",
      "metadata": {
        "id": "dQ667HPwYFYh",
        "colab_type": "text"
      },
      "source": [
        "# Especialização em Ciência de Dados - PUC-Rio\n",
        "# Machine Learning\n",
        "## Problemas de Associação com Apriori"
      ]
    },
    {
      "cell_type": "markdown",
      "metadata": {
        "id": "Dgvj6mp3dUPX",
        "colab_type": "text"
      },
      "source": [
        "# Apriori com 10 linhas de código\n",
        "\n",
        "https://www.linkedin.com/pulse/getting-started-association-rule-algorithms-machine-only-rajendran/\n",
        "\n",
        "https://github.com/CharlesRajendran/ml-apriori-algorithm"
      ]
    },
    {
      "cell_type": "markdown",
      "metadata": {
        "id": "28g5gKMzZoz1",
        "colab_type": "text"
      },
      "source": [
        "Nas regras de associação, tentaremos encontrar itens de dados que tenham associação com outro item de dados. Por exemplo: No supermercado, a organização dos produtos exige muita tomada de decisão, porque eles precisam decidir como fazer o o cliente compra mais produtos. Digamos que se você mantiver um produto complementar próximo a outro produto, como chá e açúcar, existe uma grande possibilidade de o cliente comprar os dois.\n",
        "\n",
        "Vamos usar o algoritmo **apriori** para encontrar padrões de compra nas transações diárias de uma loja de varejo por um mês."
      ]
    },
    {
      "cell_type": "code",
      "metadata": {
        "id": "l5S1vJktWDlG",
        "colab_type": "code",
        "colab": {}
      },
      "source": [
        "# No Google Colab, clique em > no canto superior esquerdo e na aba Files, adicione os arquivos data.csv e apriori.py, fornecidos junto com este notebook\n",
        "\n",
        "# Imports\n",
        "from google.colab import files\n",
        "import io\n",
        "from apyori import apriori # necessário importar o apriori.py\n",
        "\n",
        "# uploaded = files.upload() # caso você queira fazer upload do arquivo na hora\n",
        "\n",
        "# Converte o dataset em um dataframe do pandas\n",
        "dataset = pd.read_csv(\"data.csv\", header=None)\n",
        "\n",
        "\n",
        "# O algoritmo apriori espera a entrada como uma lista de listas: [ [item1, item2], [item2, item3, item4], ..... ] ]\n",
        "transacoes = []\n",
        "# Converte o dataframe em uma lista de listas\n",
        "for i in range(0, len(dataset)):\n",
        "    transacoes.append([str(dataset.values[i, j]) for j in range(0, 20)])\n",
        "# Após essas linhas, a variável transacoes terá uma lista de transações, e cada transação terá os itens que foram comprados.\n",
        "\n",
        "\n",
        "# Suporte: a frequência de um item sendo comprado em toda a transação (quantas vezes um produto está sendo comprado). \n",
        "# Este dataset tem 7500 transações e escolhi considerar itens que estavam em pelo menos 30 transações. Portanto, o suporte deve ser 30/7500 = 0,004.\n",
        "# Suporte (Produto A) = Nº de transações com A / No. total de transações\n",
        "\n",
        "# Confiança: a frequência de compra de um produto junto com outro produto (quantas vezes compramos produtos juntos, dividido pelo número de vezes que um produto é comprado).\n",
        "# Exemplo: compramos o \"Produto A\" 100 vezes e, dentre essas 100 transações, compramos o \"Produto B\" 60 vezes. \n",
        "# Então, a confiança (comprar o \"Produto B\" se um cliente comprar o \"Produto A\") é 0,6. Aqui, definimos 0,4 como o mínimo confiante.\n",
        "# Confiança (Produto A -> Produto B) = Nº de transações (A-> B) / Nº de transações (A)\n",
        "\n",
        "# Lift: o \"aumento\" que recebemos ao sugerir um produto para uma pessoa que comprou outro produto e para uma pessoa normal que não comprou o outro produto. \n",
        "# Exemplo: digamos que as pessoas tenham comprado o \"Produto B\" 30 vezes e o \"Produto A\" 500 vezes, sendo 25 das 30 transações do \"Produto B\" também incluem o \"Produto A\". \n",
        "# Assim, a porcentagem de pessoas que compram o \"Produto B\" (Suporte B) é 30/7500 = 0,004 e a porcentagem de pessoas que compram o \"Produto B\" e o \"Produto A\" é 25/500 = 0,05. \n",
        "# Portanto, o aumento (lift) obtido é de 0,05/0,004 = 12,5%.\n",
        "# Lift (Produto A -> Produto B) = Confiança (A -> B) / Suporte (B)\n",
        "\n",
        "# min_length: tamanho mínimo - indica qual é o número mínimo de itens que devem estar em uma transação.\n",
        "\n",
        "# O algoritmo analisará o conjunto de dados e encontrará associações que correspondem ao nosso valor de Suporte, Confiança, Lift e gerará um conjunto de resultados. \n",
        "associacoes = apriori(transacoes, min_support = 0.004, min_confidence = 0.4, min_lift = 3, min_length = 2)\n",
        "\n",
        "# Converte o resultado gerado em uma lista \n",
        "for item in associacoes:\n",
        "  print(item)\n",
        "\n",
        "# A primeira coleção de itens escolhida é {'spaghetti', 'cooking oil', 'ground beef'} e o seu suporte é 0,0047. \n",
        "# A regra da associação é que, se alguém compra 'cooking oil', 'ground beef' (veja item_base), então compra 'spaghetti' (veja items_add). \n",
        "# A confiança para a associação acima é de 0,57 e o lift é de 3,2."
      ],
      "execution_count": 0,
      "outputs": []
    },
    {
      "cell_type": "markdown",
      "metadata": {
        "id": "ecf-fwZTYkaL",
        "colab_type": "text"
      },
      "source": [
        "# Exemplo de Market Basket Analysis com Apriori\n",
        "https://stackabuse.com/association-rule-mining-via-apriori-algorithm-in-python/\n",
        "https://www.geeksforgeeks.org/apriori-algorithm/\n",
        "\n"
      ]
    },
    {
      "cell_type": "markdown",
      "metadata": {
        "id": "MgkRDODklbJc",
        "colab_type": "text"
      },
      "source": [
        "## Carga e análise exploratória dos dados"
      ]
    },
    {
      "cell_type": "code",
      "metadata": {
        "id": "wxwhRkxnk4sN",
        "colab_type": "code",
        "colab": {}
      },
      "source": [
        "# Imports\n",
        "import numpy as np \n",
        "import pandas as pd \n",
        "from mlxtend.frequent_patterns import apriori, association_rules \n",
        "\n",
        "# Carga dos dados\n",
        "data = pd.read_excel('Online_Retail.xlsx') "
      ],
      "execution_count": 0,
      "outputs": []
    },
    {
      "cell_type": "code",
      "metadata": {
        "id": "wA1IuGipouZq",
        "colab_type": "code",
        "colab": {}
      },
      "source": [
        "# Exibe as primeiras linhas do dataset\n",
        "data.head() "
      ],
      "execution_count": 0,
      "outputs": []
    },
    {
      "cell_type": "code",
      "metadata": {
        "id": "jdjtgNEmo1NM",
        "colab_type": "code",
        "colab": {}
      },
      "source": [
        "# Exibe as colunas dos dados \n",
        "data.columns "
      ],
      "execution_count": 0,
      "outputs": []
    },
    {
      "cell_type": "code",
      "metadata": {
        "id": "3RXepnoKo1aA",
        "colab_type": "code",
        "colab": {}
      },
      "source": [
        "# Exibe as diferentes regiões das transações\n",
        "data.Country.unique() "
      ],
      "execution_count": 0,
      "outputs": []
    },
    {
      "cell_type": "markdown",
      "metadata": {
        "id": "n5aQ04dtlTWS",
        "colab_type": "text"
      },
      "source": [
        "## Limpeza dos dados"
      ]
    },
    {
      "cell_type": "code",
      "metadata": {
        "id": "2a38mgbHlU4F",
        "colab_type": "code",
        "colab": {}
      },
      "source": [
        "# Removendo espaços extras na descrição\n",
        "data['Description'] = data['Description'].str.strip() \n",
        "\n",
        "# Eliminando as linhas sem nenhum invoice number \n",
        "data.dropna(axis = 0, subset =['InvoiceNo'], inplace = True) \n",
        "data['InvoiceNo'] = data['InvoiceNo'].astype('str') \n",
        "\n",
        "# Eliminando todas as transações realizadas a crédito\n",
        "data = data[~data['InvoiceNo'].str.contains('C')] "
      ],
      "execution_count": 0,
      "outputs": []
    },
    {
      "cell_type": "markdown",
      "metadata": {
        "id": "bFlimgJklqSG",
        "colab_type": "text"
      },
      "source": [
        "## Divisão dos dados de acordo com a região da transação"
      ]
    },
    {
      "cell_type": "code",
      "metadata": {
        "id": "82ZREPyWlqZ0",
        "colab_type": "code",
        "colab": {}
      },
      "source": [
        "# Transações realizadas na França\n",
        "basket_France = (data[data['Country'] ==\"France\"] \n",
        "\t\t.groupby(['InvoiceNo', 'Description'])['Quantity'] \n",
        "\t\t.sum().unstack().reset_index().fillna(0) \n",
        "\t\t.set_index('InvoiceNo')) \n",
        "\n",
        "# Transações realizadas no Reino Unido\n",
        "basket_UK = (data[data['Country'] ==\"United Kingdom\"] \n",
        "\t\t.groupby(['InvoiceNo', 'Description'])['Quantity'] \n",
        "\t\t.sum().unstack().reset_index().fillna(0) \n",
        "\t\t.set_index('InvoiceNo')) \n",
        "\n",
        "# Transações realizadas em Portugal \n",
        "basket_Por = (data[data['Country'] ==\"Portugal\"] \n",
        "\t\t.groupby(['InvoiceNo', 'Description'])['Quantity'] \n",
        "\t\t.sum().unstack().reset_index().fillna(0) \n",
        "\t\t.set_index('InvoiceNo')) \n",
        "\n",
        "# Transações realizadas na Suécia\n",
        "basket_Sweden = (data[data['Country'] ==\"Sweden\"] \n",
        "\t\t.groupby(['InvoiceNo', 'Description'])['Quantity'] \n",
        "\t\t.sum().unstack().reset_index().fillna(0) \n",
        "\t\t.set_index('InvoiceNo')) \n"
      ],
      "execution_count": 0,
      "outputs": []
    },
    {
      "cell_type": "code",
      "metadata": {
        "id": "CqUvfUkRnhK-",
        "colab_type": "code",
        "colab": {}
      },
      "source": [
        "# Exibe as primeiras linhas da cesta da Suécia\n",
        "basket_Sweden.head()"
      ],
      "execution_count": 0,
      "outputs": []
    },
    {
      "cell_type": "markdown",
      "metadata": {
        "id": "5DETNLfPlyGp",
        "colab_type": "text"
      },
      "source": [
        "## Transformação dos dados com Hot encoding\n",
        "https://hackernoon.com/what-is-one-hot-encoding-why-and-when-do-you-have-to-use-it-e3c6186d008f"
      ]
    },
    {
      "cell_type": "code",
      "metadata": {
        "id": "qa5-3eFAlyOO",
        "colab_type": "code",
        "colab": {}
      },
      "source": [
        "# Definição de uma função simples de hot encoding para sinalizar se o item foi ou não comprado\n",
        "def hot_encode(x): \n",
        "\tif(x<= 0): \n",
        "\t\treturn 0\n",
        "\tif(x>= 1): \n",
        "\t\treturn 1\n",
        "\n",
        "# Codificando os datasets \n",
        "basket_encoded = basket_France.applymap(hot_encode) \n",
        "basket_France = basket_encoded \n",
        "\n",
        "basket_encoded = basket_UK.applymap(hot_encode) \n",
        "basket_UK = basket_encoded \n",
        "\n",
        "basket_encoded = basket_Por.applymap(hot_encode) \n",
        "basket_Por = basket_encoded \n",
        "\n",
        "basket_encoded = basket_Sweden.applymap(hot_encode) \n",
        "basket_Sweden = basket_encoded "
      ],
      "execution_count": 0,
      "outputs": []
    },
    {
      "cell_type": "code",
      "metadata": {
        "id": "_C1ERUvinZJy",
        "colab_type": "code",
        "colab": {}
      },
      "source": [
        "# Exibe as primeiras linhas da cesta da Suécia\n",
        "basket_Sweden.head()"
      ],
      "execution_count": 0,
      "outputs": []
    },
    {
      "cell_type": "markdown",
      "metadata": {
        "id": "NVsXxo-6mPmG",
        "colab_type": "text"
      },
      "source": [
        "## Construção dos modelos e análise dos resultados"
      ]
    },
    {
      "cell_type": "code",
      "metadata": {
        "id": "5HzhwBIBmPtR",
        "colab_type": "code",
        "colab": {}
      },
      "source": [
        "# Construindo o modelo da França \n",
        "frq_items = apriori(basket_France, min_support = 0.05, use_colnames = True) \n",
        "\n",
        "# Coletando as Regras Inferidas em um Dataframe\n",
        "rules = association_rules(frq_items, metric =\"lift\", min_threshold = 1) \n",
        "rules = rules.sort_values(['confidence', 'lift'], ascending =[False, False]) \n",
        "rules.head()"
      ],
      "execution_count": 0,
      "outputs": []
    },
    {
      "cell_type": "markdown",
      "metadata": {
        "id": "sLQexSUkmXP7",
        "colab_type": "text"
      },
      "source": [
        "Podemos ver que copos e papel e pratos são comprados juntos na França. Isso podo ocorrer porque os franceses têm uma cultura de se reunir com seus amigos e familiares pelo menos uma vez por semana. Além disso, desde que o governo francês proibiu o uso de plástico no país, o povo precisa comprar as alternativas em papel."
      ]
    },
    {
      "cell_type": "code",
      "metadata": {
        "id": "6rg75Oe_mXYO",
        "colab_type": "code",
        "colab": {}
      },
      "source": [
        "# Reino Unido\n",
        "frq_items = apriori(basket_UK, min_support = 0.01, use_colnames = True) \n",
        "rules = association_rules(frq_items, metric =\"lift\", min_threshold = 1) \n",
        "rules = rules.sort_values(['confidence', 'lift'], ascending =[False, False]) \n",
        "rules.head()"
      ],
      "execution_count": 0,
      "outputs": []
    },
    {
      "cell_type": "markdown",
      "metadata": {
        "id": "_L--6sLCmXeI",
        "colab_type": "text"
      },
      "source": [
        "Se as regras para as transações britânicas forem analisadas um pouco mais profundamente, percebe-se que o povo britânico compra junto diferentes pratos de chá coloridos. Uma razão por trás disso pode ser porque normalmente os britânicos apreciam muito o chá e geralmente colecionam pratos de chá de cores diferentes para diferentes ocasiões."
      ]
    },
    {
      "cell_type": "code",
      "metadata": {
        "id": "OL-m37kVmXjp",
        "colab_type": "code",
        "colab": {}
      },
      "source": [
        "# Portugal\n",
        "frq_items = apriori(basket_Por, min_support = 0.05, use_colnames = True) \n",
        "rules = association_rules(frq_items, metric =\"lift\", min_threshold = 1) \n",
        "rules = rules.sort_values(['confidence', 'lift'], ascending =[False, False]) \n",
        "rules.head()"
      ],
      "execution_count": 0,
      "outputs": []
    },
    {
      "cell_type": "markdown",
      "metadata": {
        "id": "q_R5sPCtmn33",
        "colab_type": "text"
      },
      "source": [
        "Ao analisar as regras de associação para transações em Portugal, observa-se que os conjuntos Tiffin (Knick Knack Tins) e lápis de cor geralmente são comprados juntos. Esses dois produtos geralmente pertencem a uma criança que frequenta a escola primária,e as criaças costumam usar a para levar o almoço e para trabalhos criativos, respectivamente, e, portanto, fazem sentido serem comprados juntos."
      ]
    },
    {
      "cell_type": "code",
      "metadata": {
        "id": "Ouh8dVYQmn_K",
        "colab_type": "code",
        "colab": {}
      },
      "source": [
        "# Suécia\n",
        "frq_items = apriori(basket_Sweden, min_support = 0.05, use_colnames = True) \n",
        "rules = association_rules(frq_items, metric =\"lift\", min_threshold = 1) \n",
        "rules = rules.sort_values(['confidence', 'lift'], ascending =[False, False]) \n",
        "rules.head()"
      ],
      "execution_count": 0,
      "outputs": []
    },
    {
      "cell_type": "markdown",
      "metadata": {
        "id": "1cjXqLxSmwHL",
        "colab_type": "text"
      },
      "source": [
        "Ao analisar as regras acima, verifica-se que os talheres de meninos e meninas são comprados juntos. Isso pode fazer sentido prático, porque quando um pai compra talheres para seus filhos, ele quer que o produto seja personalizado de acordo com os desejos da criança."
      ]
    },
    {
      "cell_type": "markdown",
      "metadata": {
        "id": "Kf_E6M0EdUUb",
        "colab_type": "text"
      },
      "source": [
        "# Outros exemplos interessantes\n",
        "\n",
        "https://www.geeksforgeeks.org/implementing-apriori-algorithm-in-python/\n",
        "\n",
        "https://livebook.manning.com/book/machine-learning-in-action/chapter-11/176\n",
        "\n",
        "https://medium.com/@fabio.italiano/the-apriori-algorithm-in-python-expanding-thors-fan-base-501950d55be9\n",
        "\n",
        "https://adataanalyst.com/machine-learning/apriori-algorithm-python-3-0/\n",
        "\n",
        "https://medium.com/@dhavalbagal99/market-basket-analysis-using-apriori-algorithm-215fb308bd1c"
      ]
    }
  ]
}