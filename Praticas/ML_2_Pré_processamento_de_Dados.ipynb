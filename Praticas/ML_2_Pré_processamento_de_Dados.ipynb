{
  "nbformat": 4,
  "nbformat_minor": 0,
  "metadata": {
    "anaconda-cloud": {},
    "kernelspec": {
      "display_name": "Python 3",
      "language": "python",
      "name": "python3"
    },
    "language_info": {
      "codemirror_mode": {
        "name": "ipython",
        "version": 3
      },
      "file_extension": ".py",
      "mimetype": "text/x-python",
      "name": "python",
      "nbconvert_exporter": "python",
      "pygments_lexer": "ipython3",
      "version": "3.6.5"
    },
    "colab": {
      "name": "ML - 2. Pré_processamento de Dados.ipynb",
      "version": "0.3.2",
      "provenance": [],
      "collapsed_sections": []
    }
  },
  "cells": [
    {
      "cell_type": "markdown",
      "metadata": {
        "id": "LKd9KtCqC-Yx",
        "colab_type": "text"
      },
      "source": [
        "# Especialização em Ciência de Dados - PUC-Rio\n",
        "# Machine Learning\n",
        "## Pré-processamento de Dados\n",
        "### Preparação de Dados"
      ]
    },
    {
      "cell_type": "markdown",
      "metadata": {
        "id": "2BgydUqaC-Yy",
        "colab_type": "text"
      },
      "source": [
        "## Preparando os Dados para Machine Learning"
      ]
    },
    {
      "cell_type": "markdown",
      "metadata": {
        "id": "fkcSCr727P2T",
        "colab_type": "text"
      },
      "source": [
        "**Referências:** https://scikit-learn.org/stable/modules/classes.html#module-sklearn.preprocessing"
      ]
    },
    {
      "cell_type": "code",
      "metadata": {
        "id": "LIOxLNB9EBft",
        "colab_type": "code",
        "colab": {}
      },
      "source": [
        "# Carrega arquivo csv usando Pandas usando uma URL\n",
        "\n",
        "# Importa  todo o pacote Pandas\n",
        "import pandas as pd\n",
        "\n",
        "# Informa a URL de importação do dataset\n",
        "url = \"https://raw.githubusercontent.com/jbrownlee/Datasets/master/pima-indians-diabetes.data.csv\"\n",
        "\n",
        "# Informa o cabeçalho das colunas\n",
        "colunas = ['preg', 'plas', 'pres', 'skin', 'test', 'mass', 'pedi', 'age', 'class']\n",
        "\n",
        "# Lê o arquivo utilizando as colunas informadas\n",
        "dataset = pd.read_csv(url, names=colunas, skiprows=0, delimiter=',')"
      ],
      "execution_count": 0,
      "outputs": []
    },
    {
      "cell_type": "markdown",
      "metadata": {
        "id": "jC8b523fC-Y0",
        "colab_type": "text"
      },
      "source": [
        "## Normalização - Método 1"
      ]
    },
    {
      "cell_type": "markdown",
      "metadata": {
        "id": "ubR2qKmwC-Y0",
        "colab_type": "text"
      },
      "source": [
        "https://scikit-learn.org/stable/modules/generated/sklearn.preprocessing.MinMaxScaler.html"
      ]
    },
    {
      "cell_type": "code",
      "metadata": {
        "id": "3svSLV-VC-Y2",
        "colab_type": "code",
        "colab": {}
      },
      "source": [
        "# Transformando os dados para a mesma escala (entre 0 e 1)\n",
        "\n",
        "# Import da função\n",
        "from sklearn.preprocessing import MinMaxScaler\n",
        "\n",
        "# Pegando apenas os dados do dataset e guardando em um array\n",
        "array = dataset.values\n",
        "\n",
        "# Separando o array em componentes de input (X) e output (Y)\n",
        "X = array[:,0:8]\n",
        "Y = array[:,8]\n",
        "\n",
        "# Gerando a nova escala (normalizando os dados)\n",
        "scaler = MinMaxScaler(feature_range = (0, 1))\n",
        "rescaledX = scaler.fit_transform(X)\n",
        "\n",
        "# Sumarizando os dados transformados\n",
        "print(\"Dados Originais: \\n\\n\", dataset.values)\n",
        "print(\"\\nDados Normalizados: \\n\\n\", rescaledX[0:5,:])"
      ],
      "execution_count": 0,
      "outputs": []
    },
    {
      "cell_type": "markdown",
      "metadata": {
        "id": "0jXZDKUJC-Y5",
        "colab_type": "text"
      },
      "source": [
        "## Normalização - Método 2"
      ]
    },
    {
      "cell_type": "markdown",
      "metadata": {
        "id": "M9sKXrnXC-Y5",
        "colab_type": "text"
      },
      "source": [
        "https://scikit-learn.org/stable/modules/generated/sklearn.preprocessing.Normalizer.html"
      ]
    },
    {
      "cell_type": "markdown",
      "metadata": {
        "id": "PM8AK9iEC-Y6",
        "colab_type": "text"
      },
      "source": [
        "No scikit-learn, normalização se refere a ajustar a escala de cada observação (linha) de modo que ela tenha comprimento igual a 1 (chamado vetor de comprimento 1 em álgebra linear). Este método de pré-processamento é útil quando temos datasets esparsos (com muitos zeros) e atributos com escala muito variada."
      ]
    },
    {
      "cell_type": "code",
      "metadata": {
        "id": "YmEM6VZ8C-Y6",
        "colab_type": "code",
        "colab": {}
      },
      "source": [
        "# Normalizando os dados (comprimento igual a 1)\n",
        "\n",
        "# Import da função\n",
        "from sklearn.preprocessing import Normalizer\n",
        "\n",
        "# Pegando apenas os dados do dataset e guardando em um array\n",
        "array = dataset.values\n",
        "\n",
        "# Separando o array em componentes de input e output\n",
        "X = array[:,0:8]\n",
        "Y = array[:,8]\n",
        "\n",
        "# Gerando os dados normalizados\n",
        "scaler = Normalizer().fit(X)\n",
        "normalizedX = scaler.transform(X)\n",
        "\n",
        "# Sumarizando os dados transformados\n",
        "print(\"Dados Originais: \\n\\n\", dataset.values)\n",
        "print(\"\\nDados Normalizados: \\n\\n\", normalizedX[0:5,:])"
      ],
      "execution_count": 0,
      "outputs": []
    },
    {
      "cell_type": "markdown",
      "metadata": {
        "id": "9qn8L_mKC-Y8",
        "colab_type": "text"
      },
      "source": [
        "## Padronização"
      ]
    },
    {
      "cell_type": "markdown",
      "metadata": {
        "id": "DzqRnaHrC-Y9",
        "colab_type": "text"
      },
      "source": [
        "https://scikit-learn.org/stable/modules/generated/sklearn.preprocessing.StandardScaler.html"
      ]
    },
    {
      "cell_type": "code",
      "metadata": {
        "id": "xwXvs2zkC-Y-",
        "colab_type": "code",
        "colab": {}
      },
      "source": [
        "# Padronizando os dados (média 0 e desvio padrão 1)\n",
        "\n",
        "# Import da função\n",
        "from sklearn.preprocessing import StandardScaler\n",
        "\n",
        "# Pegando apenas os dados do dataset e guardando em um array\n",
        "array = dataset.values\n",
        "\n",
        "# Separando o array em componentes de input e output\n",
        "X = array[:,0:8]\n",
        "Y = array[:,8]\n",
        "\n",
        "# Gerando o novo padrão\n",
        "scaler = StandardScaler().fit(X)\n",
        "standardX = scaler.transform(X)\n",
        "\n",
        "# Sumarizando os dados transformados\n",
        "print(\"Dados Originais: \\n\\n\", dataset.values)\n",
        "print(\"\\nDados Padronizados: \\n\\n\", standardX[0:5,:])"
      ],
      "execution_count": 0,
      "outputs": []
    },
    {
      "cell_type": "markdown",
      "metadata": {
        "id": "wjTsTfZtC-Y_",
        "colab_type": "text"
      },
      "source": [
        "## Binarização (Transformar os Dados em Valores Binários)"
      ]
    },
    {
      "cell_type": "markdown",
      "metadata": {
        "id": "ZFU-wwnTC-ZA",
        "colab_type": "text"
      },
      "source": [
        "https://scikit-learn.org/stable/modules/generated/sklearn.preprocessing.Binarizer.html"
      ]
    },
    {
      "cell_type": "markdown",
      "metadata": {
        "id": "m1OFzWOOC-ZC",
        "colab_type": "text"
      },
      "source": [
        "Podemos definir um valor em nossos dados (threshold) e definimos que todos os valores acima do threshold serão marcados como sendo 1 e todos valores iguais ou abaixo do threshold serão marcados como sendo 0. Isso é útil quando temos probabilidades e queremos transformar os dados em algo com mais significado."
      ]
    },
    {
      "cell_type": "code",
      "metadata": {
        "id": "0ju84JADC-ZC",
        "colab_type": "code",
        "colab": {}
      },
      "source": [
        "# Binarização\n",
        "\n",
        "# Import da função\n",
        "from sklearn.preprocessing import Binarizer\n",
        "\n",
        "# Pegando apenas os dados do dataset e guardando em um array\n",
        "array = dataset.values\n",
        "\n",
        "# Separando o array em componentes de input e output\n",
        "X = array[:,0:8]\n",
        "Y = array[:,8]\n",
        "\n",
        "# Gerando a binarização\n",
        "# acima de 0.2 converte para 1, abaixo para 0 (útil para conversão de saídas de probabilidades para classes)\n",
        "binarizer = Binarizer(threshold = 0.2).fit(X)\n",
        "binaryX = binarizer.transform(X)\n",
        "\n",
        "# Sumarizando os dados transformados\n",
        "print(\"Dados Originais: \\n\\n\", dataset.values)\n",
        "print(\"\\nDados Binarizados: \\n\\n\", binaryX[0:5,:])"
      ],
      "execution_count": 0,
      "outputs": []
    }
  ]
}