{
  "nbformat": 4,
  "nbformat_minor": 0,
  "metadata": {
    "colab": {
      "name": "ML - Exercício 1 - Análise exploratória e pré-processamento.ipynb",
      "version": "0.3.2",
      "provenance": []
    },
    "kernelspec": {
      "name": "python3",
      "display_name": "Python 3"
    }
  },
  "cells": [
    {
      "cell_type": "markdown",
      "metadata": {
        "id": "JzONFe0W2mHw",
        "colab_type": "text"
      },
      "source": [
        "# Especialização em Ciência de Dados - PUC-Rio\n",
        "# Machine Learning\n",
        "## Exercício 1: Análise Exploratória e Pré-processamento de Dados"
      ]
    },
    {
      "cell_type": "markdown",
      "metadata": {
        "id": "NnHlnwLF3jh5",
        "colab_type": "text"
      },
      "source": [
        "\n",
        "\n",
        "---\n",
        "\n",
        "\n",
        "<b>Aluno: </b>\n",
        "\n",
        "---\n",
        "\n"
      ]
    },
    {
      "cell_type": "markdown",
      "metadata": {
        "id": "oa1y_RrG3C7T",
        "colab_type": "text"
      },
      "source": [
        "<b>Escolha um dataset simples (preferencialmente do UCI Machine Learning Repository - https://archive.ics.uci.edu/ml/index.php) e treine a análise exploratória e o pré-processamento de dados com os comandos aprendidos em aula.</b>"
      ]
    },
    {
      "cell_type": "code",
      "metadata": {
        "id": "rbjlQ2WB3EkA",
        "colab_type": "code",
        "colab": {}
      },
      "source": [
        ""
      ],
      "execution_count": 0,
      "outputs": []
    },
    {
      "cell_type": "markdown",
      "metadata": {
        "id": "umP9jBPk3Euz",
        "colab_type": "text"
      },
      "source": [
        "**Agora pesquise outras operações ou comandos (não estudados em sala) e realize outros tipos de técnicas de análise exploratória e pré-processamento de dados.**"
      ]
    },
    {
      "cell_type": "code",
      "metadata": {
        "id": "uTdps4lW3R8n",
        "colab_type": "code",
        "colab": {}
      },
      "source": [
        ""
      ],
      "execution_count": 0,
      "outputs": []
    },
    {
      "cell_type": "markdown",
      "metadata": {
        "id": "11l-FXsq3SEc",
        "colab_type": "text"
      },
      "source": [
        "**O que você aprendeu sobre este dataset?**"
      ]
    },
    {
      "cell_type": "markdown",
      "metadata": {
        "id": "SaICNZX43cNy",
        "colab_type": "text"
      },
      "source": [
        ""
      ]
    }
  ]
}