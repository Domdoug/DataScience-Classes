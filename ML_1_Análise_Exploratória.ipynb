{
  "nbformat": 4,
  "nbformat_minor": 0,
  "metadata": {
    "anaconda-cloud": {},
    "kernelspec": {
      "display_name": "Python 3",
      "language": "python",
      "name": "python3"
    },
    "language_info": {
      "codemirror_mode": {
        "name": "ipython",
        "version": 3
      },
      "file_extension": ".py",
      "mimetype": "text/x-python",
      "name": "python",
      "nbconvert_exporter": "python",
      "pygments_lexer": "ipython3",
      "version": "3.6.5"
    },
    "colab": {
      "name": "ML - 1. Análise Exploratória.ipynb",
      "version": "0.3.2",
      "provenance": [],
      "collapsed_sections": [
        "NhH8DJ7MJdPe",
        "GpDDtp3-JdPg",
        "a-IiUAo70Ism",
        "tHG5wVbgJdP2",
        "0FZIGBZAJdQL"
      ]
    }
  },
  "cells": [
    {
      "cell_type": "markdown",
      "metadata": {
        "id": "kOXJ-C3EJdPX",
        "colab_type": "text"
      },
      "source": [
        "# Especialização em Ciência de Dados - PUC-Rio\n",
        "# Machine Learning\n",
        "## Análise Exploratória de Dados"
      ]
    },
    {
      "cell_type": "code",
      "metadata": {
        "id": "86OiKQLYJdPY",
        "colab_type": "code",
        "colab": {}
      },
      "source": [
        "# Importações de pacotes necessários\n",
        "import sklearn as sl\n",
        "import warnings\n",
        "warnings.filterwarnings(\"ignore\")\n",
        "#sl.__version__"
      ],
      "execution_count": 0,
      "outputs": []
    },
    {
      "cell_type": "markdown",
      "metadata": {
        "id": "NhH8DJ7MJdPe",
        "colab_type": "text"
      },
      "source": [
        "## Definição do Problema"
      ]
    },
    {
      "cell_type": "markdown",
      "metadata": {
        "id": "4wp0P94ZJdPf",
        "colab_type": "text"
      },
      "source": [
        "Para este experimento, vamos utilizar o dataset Pima Indians Diabetes, que contém  registros médicos sobre pacientes e cada registro está rotulado se o paciente desenvolveu ou não diabetes. \n",
        "\n",
        "Os registros de pacientes com diabetes foram obtidos de duas fontes: um dispositivo de gravação eletrônica automática e registros em papel. O dispositivo automático tinha um relógio interno para eventos de registro de data e hora, enquanto os registros em papel forneciam apenas intervalos de tempo lógico (café da manhã, almoço, jantar, horário de dormir). Para registros em papel, horários fixos foram atribuídos ao café da manhã (08:00), almoço (12:00), jantar (18:00) e horário de dormir (22:00). Assim, os registros em papel têm tempos de gravação uniformes fictícios, enquanto os registros eletrônicos têm carimbos de hora mais realistas.\n",
        "\n",
        "Para mais detalhes sobre este dataset, consulte: http://archive.ics.uci.edu/ml/datasets/diabetes\n",
        "\n",
        "### Informações sobre os atributos:\n",
        "1. **preg** - Number of times pregnant \n",
        "2. **plas** - Plasma glucose concentration a 2 hours in an oral glucose tolerance test \n",
        "3. **pres** - Diastolic blood pressure (mm Hg) \n",
        "4. **skin** - Triceps skin fold thickness (mm) \n",
        "5. **test** - 2-Hour serum insulin (mu U/ml) \n",
        "6. **mass** - Body mass index (weight in kg/(height in m)^2) \n",
        "7. **pedi** - Diabetes pedigree function \n",
        "8. **age** - Age (years) \n",
        "9. **class** - Class variable (0 or 1) "
      ]
    },
    {
      "cell_type": "markdown",
      "metadata": {
        "id": "GpDDtp3-JdPg",
        "colab_type": "text"
      },
      "source": [
        "## Carga do dataset"
      ]
    },
    {
      "cell_type": "code",
      "metadata": {
        "id": "gmAJmswnATzp",
        "colab_type": "code",
        "colab": {}
      },
      "source": [
        "# Observação sobre importação de pacotes\n",
        "\n",
        "# FORMA 1: Apenas a função que queremos usar (ex: read_csv)\n",
        "# Importa apenas a função read_csv\n",
        "# from pandas import read_csv\n",
        "\n",
        "# FORMA 2: Todo o pacote\n",
        "# import pandas as pd"
      ],
      "execution_count": 0,
      "outputs": []
    },
    {
      "cell_type": "markdown",
      "metadata": {
        "id": "I8Zuc_V-0gha",
        "colab_type": "text"
      },
      "source": [
        "Iremos usar o pacote Pandas ( Python Data Analysis Library) para carregar de um arquivo .csv sem cabeçalho. Use **APENAS UM** dos dois blocos a seguir:"
      ]
    },
    {
      "cell_type": "code",
      "metadata": {
        "id": "eRvoIppoAon_",
        "colab_type": "code",
        "colab": {}
      },
      "source": [
        "# Carrega arquivo csv usando Pandas (NÃO FUNCIONA NO GOOGLE COLAB)\n",
        "\n",
        "# Importa  todo o pacote Pandas\n",
        "import pandas as pd\n",
        "\n",
        "# Informa o caminho do arquivo\n",
        "arquivo = 'data/pima-data.csv'\n",
        "\n",
        "# Informa o cabeçalho das colunas\n",
        "colunas = ['preg', 'plas', 'pres', 'skin', 'test', 'mass', 'pedi', 'age', 'class']\n",
        "\n",
        "# Lê o arquivo utilizando as colunas informadas\n",
        "dataset = pd.read_csv(arquivo, names = colunas)"
      ],
      "execution_count": 0,
      "outputs": []
    },
    {
      "cell_type": "code",
      "metadata": {
        "id": "fna8m3e1Azt_",
        "colab_type": "code",
        "colab": {}
      },
      "source": [
        "# Carrega arquivo csv usando Pandas usando uma URL\n",
        "\n",
        "# Importa  todo o pacote Pandas\n",
        "import pandas as pd\n",
        "\n",
        "# Informa a URL de importação do dataset\n",
        "url = \"https://raw.githubusercontent.com/jbrownlee/Datasets/master/pima-indians-diabetes.data.csv\"\n",
        "\n",
        "# Informa o cabeçalho das colunas\n",
        "colunas = ['preg', 'plas', 'pres', 'skin', 'test', 'mass', 'pedi', 'age', 'class']\n",
        "\n",
        "# Lê o arquivo utilizando as colunas informadas\n",
        "dataset = pd.read_csv(url, names=colunas, skiprows=0, delimiter=',')"
      ],
      "execution_count": 0,
      "outputs": []
    },
    {
      "cell_type": "markdown",
      "metadata": {
        "id": "7Y1fJdJGJdPi",
        "colab_type": "text"
      },
      "source": [
        "## Análise Exploratória"
      ]
    },
    {
      "cell_type": "markdown",
      "metadata": {
        "id": "a-IiUAo70Ism",
        "colab_type": "text"
      },
      "source": [
        "### Informações Gerais e Estatísticas Descritivas"
      ]
    },
    {
      "cell_type": "code",
      "metadata": {
        "id": "U_9aFCBMBp59",
        "colab_type": "code",
        "colab": {}
      },
      "source": [
        "# Mostra as informações do dataset\n",
        "dataset.info()"
      ],
      "execution_count": 0,
      "outputs": []
    },
    {
      "cell_type": "code",
      "metadata": {
        "id": "DtjgoGQ4JdPj",
        "colab_type": "code",
        "colab": {}
      },
      "source": [
        "# Mostra as 10 primeiras linhas do dataset\n",
        "dataset.head(10)"
      ],
      "execution_count": 0,
      "outputs": []
    },
    {
      "cell_type": "code",
      "metadata": {
        "id": "wvSlP7D6tBhM",
        "colab_type": "code",
        "colab": {}
      },
      "source": [
        "# Mostra as 10 últimas linhas do dataset\n",
        "dataset.tail(10)"
      ],
      "execution_count": 0,
      "outputs": []
    },
    {
      "cell_type": "code",
      "metadata": {
        "id": "g4kA_wsnJdPm",
        "colab_type": "code",
        "colab": {}
      },
      "source": [
        "# Mostra as dimensões do dataset\n",
        "dataset.shape"
      ],
      "execution_count": 0,
      "outputs": []
    },
    {
      "cell_type": "markdown",
      "metadata": {
        "id": "yCHj3SRyJdPo",
        "colab_type": "text"
      },
      "source": [
        "É sempre importante verificar o tipo do atributos do dataset, pois pode ser necessário realizar conversões."
      ]
    },
    {
      "cell_type": "code",
      "metadata": {
        "id": "qOzc1ZKQJdPp",
        "colab_type": "code",
        "colab": {}
      },
      "source": [
        "# Verifica o tipo de dataset de cada atributo\n",
        "dataset.dtypes"
      ],
      "execution_count": 0,
      "outputs": []
    },
    {
      "cell_type": "code",
      "metadata": {
        "id": "Xafq8Ex8JdPr",
        "colab_type": "code",
        "colab": {}
      },
      "source": [
        "# Faz um resumo estatístico do dataset (média, desvio padrão, mínimo, máximo e os quartis)\n",
        "dataset.describe()"
      ],
      "execution_count": 0,
      "outputs": []
    },
    {
      "cell_type": "markdown",
      "metadata": {
        "id": "VXOJOrapJdPt",
        "colab_type": "text"
      },
      "source": [
        "Vamos agora verificar se o dataset tem as classes balanceadas para que possamos tratar o desbalanceamento posteriormente, se necessário. Veremos que as classes 0 (não ocorrência de diabetes) e 1 (ocorrência de diabetes) estão desbalanceadas."
      ]
    },
    {
      "cell_type": "code",
      "metadata": {
        "id": "9y_K4Lf7JdPu",
        "colab_type": "code",
        "colab": {}
      },
      "source": [
        "# Verifica a distribuição das classes\n",
        "dataset.groupby('class').size()"
      ],
      "execution_count": 0,
      "outputs": []
    },
    {
      "cell_type": "markdown",
      "metadata": {
        "id": "T7m8gDAdJdPw",
        "colab_type": "text"
      },
      "source": [
        "Lembrando a aula teórica: a covariância representa como duas variáveis numéricas estão relacionadas. Existem várias formas de calcular a correlação entre duas variáveis, como por exemplo, o coeficiente de correlação de Pearson, que pode ser:\n",
        "* Próximo de -1 : há uma correlação negativa entre as variáveis, \n",
        "* Próximo de +1: há uma correlação positiva entre as variáveis. \n",
        "* 0: não há correlação entre as variáveis.\n",
        "\n",
        "<i>OBS: Alguns algoritmos como regressão linear e regressão logística podem apresentar problemas de performance se houver atributos altamente correlacionados. Vale a pena consultar a documentação do algoritmo para verificar se algum tipo de tratamento de dataset é necessário.</i>"
      ]
    },
    {
      "cell_type": "code",
      "metadata": {
        "id": "dZGaFMPMJdPx",
        "colab_type": "code",
        "colab": {}
      },
      "source": [
        "# Correlação de Pearson\n",
        "dataset.corr(method = 'pearson')\n",
        "# Outros métodos de correlação: {‘pearson’, ‘kendall’, ‘spearman’}"
      ],
      "execution_count": 0,
      "outputs": []
    },
    {
      "cell_type": "markdown",
      "metadata": {
        "id": "TrffqLmuJdPz",
        "colab_type": "text"
      },
      "source": [
        "Vamos agora verificar a simetria (skew) da distribuição de dataset de cada atributo, assumindo que a distribuição é normal (gaussiana). Se o coeficiente for:\n",
        "* Maior que 0: a distribuição é assimétrica positiva (maior à esquerda e menor à direita).\n",
        "* Menor que 0: a distribuição é assimétrica negativa (maior à direita e menor à esquerda).\n",
        "* Igual a 0: a distribuição é simétrica.\n",
        "\n",
        "<i>OBS: Muitos algoritmos de Machine Learning consideram que os dataset possuem uma distribuição normal. Conhecer a simetria dos dataset é importante para que seja realizado algum tratamento, se necessário.</i>"
      ]
    },
    {
      "cell_type": "code",
      "metadata": {
        "id": "Alr4L8S_JdP0",
        "colab_type": "code",
        "colab": {
          "base_uri": "https://localhost:8080/",
          "height": 187
        },
        "outputId": "ae4056a6-b465-4b1f-8f38-3b755e0e0b8c"
      },
      "source": [
        "# Simetria de cada atributo\n",
        "dataset.skew()"
      ],
      "execution_count": 10,
      "outputs": [
        {
          "output_type": "execute_result",
          "data": {
            "text/plain": [
              "preg     0.901674\n",
              "plas     0.173754\n",
              "pres    -1.843608\n",
              "skin     0.109372\n",
              "test     2.272251\n",
              "mass    -0.428982\n",
              "pedi     1.919911\n",
              "age      1.129597\n",
              "class    0.635017\n",
              "dtype: float64"
            ]
          },
          "metadata": {
            "tags": []
          },
          "execution_count": 10
        }
      ]
    },
    {
      "cell_type": "markdown",
      "metadata": {
        "id": "tHG5wVbgJdP2",
        "colab_type": "text"
      },
      "source": [
        "### Visualização com Matplotlib"
      ]
    },
    {
      "cell_type": "code",
      "metadata": {
        "id": "bwE4ZJkSJdP3",
        "colab_type": "code",
        "colab": {}
      },
      "source": [
        "# Importa o pacote matplotlib\n",
        "import matplotlib.pyplot as plt\n",
        "# Indica que os dataset serão gerados nesta mesma janela\n",
        "%matplotlib inline"
      ],
      "execution_count": 0,
      "outputs": []
    },
    {
      "cell_type": "markdown",
      "metadata": {
        "id": "9dihMSXCJdP5",
        "colab_type": "text"
      },
      "source": [
        "Ao exibirmos o histograma do dataset, veremos que os atributos **age**, **pedi** e **test** possuem uma distribuição exponencial, e que as colunas **mass** e **press** possuem uma distribuição aproximadamente normal."
      ]
    },
    {
      "cell_type": "code",
      "metadata": {
        "id": "dScy365OJdP6",
        "colab_type": "code",
        "colab": {}
      },
      "source": [
        "# Histograma\n",
        "dataset.hist()\n",
        "plt.show()"
      ],
      "execution_count": 0,
      "outputs": []
    },
    {
      "cell_type": "markdown",
      "metadata": {
        "id": "4AmnKy4RJdP7",
        "colab_type": "text"
      },
      "source": [
        "O Gráfico de Densidade, ou Density Plot, é bem parecido com o histograma, mas com uma visualização um pouco diferente.  Com ele, pode ser mais fácil identificar a distribuição do atributos do dataset."
      ]
    },
    {
      "cell_type": "code",
      "metadata": {
        "id": "0mId8RwAJdP8",
        "colab_type": "code",
        "colab": {}
      },
      "source": [
        "# Density Plot\n",
        "dataset.plot(kind = 'density', subplots = True, layout = (3,3), sharex = False)\n",
        "plt.show()"
      ],
      "execution_count": 0,
      "outputs": []
    },
    {
      "cell_type": "markdown",
      "metadata": {
        "id": "vNjXnm9VJdP-",
        "colab_type": "text"
      },
      "source": [
        "No boxblot, a linha no centro (vermelho) representa o valor da mediana (segundo quartil ou p50). A linha abaixo é o 1o quartil (p25) e a linha acima o terceiro quartil (p75). O boxplot ajuda a ter uma ideia da dispersão dos dataset e os possíveis outliers.\n",
        "\n",
        "*OBS: Se os dataset são muito distantes da média (acima de 3 desvios padrão da média), podem ser outliers.*\n",
        "\n",
        "No dataset, veremos que a dispersão dos atributos é bem diferente."
      ]
    },
    {
      "cell_type": "code",
      "metadata": {
        "id": "x96d46HXJdP_",
        "colab_type": "code",
        "colab": {}
      },
      "source": [
        "# Boxplot\n",
        "dataset.plot(kind = 'box', subplots = True, layout = (3,3), sharex = False, sharey = False)\n",
        "plt.show()"
      ],
      "execution_count": 0,
      "outputs": []
    },
    {
      "cell_type": "code",
      "metadata": {
        "id": "DZg_0BgGJdQB",
        "colab_type": "code",
        "colab": {}
      },
      "source": [
        "# Matriz de Correlação (com labels)\n",
        "\n",
        "# Armazena as correlações em uma variável\n",
        "correlations = dataset.corr()\n",
        "\n",
        "# Plot\n",
        "import numpy as np\n",
        "# Cria uma figura\n",
        "fig = plt.figure()\n",
        "# Adiciona o gráfico\n",
        "ax = fig.add_subplot(111)\n",
        "# Mostra as correlações\n",
        "cax = ax.matshow(correlations, vmin = -1, vmax = 1)\n",
        "# Colore o boxplot\n",
        "fig.colorbar(cax)\n",
        "# Define o tamanho do quadrado\n",
        "ticks = np.arange(0, 9, 1)\n",
        "# Seta as labels dos eixos x e y\n",
        "ax.set_xticks(ticks)\n",
        "ax.set_yticks(ticks)\n",
        "ax.set_xticklabels(colunas)\n",
        "ax.set_yticklabels(colunas)\n",
        "# Mostra o gráfico\n",
        "plt.show()"
      ],
      "execution_count": 0,
      "outputs": []
    },
    {
      "cell_type": "code",
      "metadata": {
        "id": "0SNsav5fJdQD",
        "colab_type": "code",
        "colab": {}
      },
      "source": [
        "# Matriz de Correlação (sem labels)\n",
        "\n",
        "# Armazena as correlações em uma variável\n",
        "correlations = dataset.corr()\n",
        "\n",
        "# Plot\n",
        "fig = plt.figure()\n",
        "ax = fig.add_subplot(111)\n",
        "cax = ax.matshow(correlations, vmin = -1, vmax = 1)\n",
        "fig.colorbar(cax)\n",
        "plt.show()"
      ],
      "execution_count": 0,
      "outputs": []
    },
    {
      "cell_type": "markdown",
      "metadata": {
        "id": "crRG9fsoJdQG",
        "colab_type": "text"
      },
      "source": [
        "O gráfico de dispersão (scatter plot) mostra o relacionamento entre duas variáveis."
      ]
    },
    {
      "cell_type": "code",
      "metadata": {
        "id": "HZyGji9AJdQH",
        "colab_type": "code",
        "colab": {}
      },
      "source": [
        "# Scatter Plot \n",
        "from pandas.plotting import scatter_matrix\n",
        "scatter_matrix(dataset)\n",
        "plt.show()"
      ],
      "execution_count": 0,
      "outputs": []
    },
    {
      "cell_type": "markdown",
      "metadata": {
        "id": "0FZIGBZAJdQL",
        "colab_type": "text"
      },
      "source": [
        "### Visualização com Seaborn (pacote menos complexo, mas gráficos menos flexíveis)"
      ]
    },
    {
      "cell_type": "code",
      "metadata": {
        "id": "917oND90JdQM",
        "colab_type": "code",
        "colab": {}
      },
      "source": [
        "# Importa o pacote\n",
        "import seaborn as sns"
      ],
      "execution_count": 0,
      "outputs": []
    },
    {
      "cell_type": "code",
      "metadata": {
        "id": "z64h1Y2RJdQQ",
        "colab_type": "code",
        "colab": {}
      },
      "source": [
        "# Scatter Plot (pairplot)\n",
        "sns.pairplot(dataset)"
      ],
      "execution_count": 0,
      "outputs": []
    },
    {
      "cell_type": "code",
      "metadata": {
        "id": "pcqTNPkLJdQS",
        "colab_type": "code",
        "colab": {}
      },
      "source": [
        "# Boxplot com orientação vertical\n",
        "sns.boxplot(data = dataset, orient = \"v\")"
      ],
      "execution_count": 0,
      "outputs": []
    }
  ]
}