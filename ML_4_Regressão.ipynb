{
  "nbformat": 4,
  "nbformat_minor": 0,
  "metadata": {
    "colab": {
      "name": "ML - 4. Regressão.ipynb",
      "provenance": []
    },
    "kernelspec": {
      "name": "python3",
      "display_name": "Python 3"
    }
  },
  "cells": [
    {
      "cell_type": "markdown",
      "metadata": {
        "id": "7U09YgBYug4J",
        "colab_type": "text"
      },
      "source": [
        "# Especialização em Ciência de Dados - PUC-Rio\n",
        "# Machine Learning\n",
        "## Problemas de Regressão"
      ]
    },
    {
      "cell_type": "markdown",
      "metadata": {
        "id": "9jj3_aqYuzDK",
        "colab_type": "text"
      },
      "source": [
        "# Importação dos dados"
      ]
    },
    {
      "cell_type": "markdown",
      "metadata": {
        "id": "IsS3uX9tyMDp",
        "colab_type": "text"
      },
      "source": [
        "http://lib.stat.cmu.edu/datasets/boston\n",
        "\n",
        "Para este projeto, investigaremos o dataset Boston House Price, um dataset para problemas de regressão em que todos os atributos são numéricos.\n",
        "\n",
        "Cada registro no banco de dados descreve um subúrbio ou cidade de Boston. Os dados foram retirados da Área Estatística Metropolitana Padrão de Boston (SMSA) em 1970. Os atributos são definidos da seguinte forma (retirado do UCI Machine Learning Repository):\n",
        "\n",
        "1. CRIM: Taxa de criminalidade per capita por cidade\n",
        "2. ZN: Proporção de terrenos residenciais divididos em lotes com mais de 25.000 pés quadrados\n",
        "3. INDUS: Proporção de acres não comerciais por cidade\n",
        "4. CHAS: Variável fictícia CHAS Charles River (= 1 se o trecho limita o rio; 0 caso contrário)\n",
        "5. NOX: Concentração de óxidos nítricos (partes por 10 milhões)\n",
        "6. RM: número médio de quartos por habitação\n",
        "7. AGE: proporção de unidades ocupadas construídas antes de 1940\n",
        "8. DIS: Distâncias ponderadas para cinco centros de emprego em Boston\n",
        "9. RAD: Índice de acessibilidade às rodovias radiais\n",
        "10. TAX: Taxa de imposto sobre o valor total da propriedade por 10 mil dólares\n",
        "11. PTRATIO: Proporção de alunos por professor por cidade\n",
        "12. B: 1000(Bk - 0.63)^2 onde Bk é a proporção de negros por cidade\n",
        "13. LSTAT: % do menor status da população\n",
        "14. MEDV: Valor médio das casas ocupadas pelos proprietários em mil dólares\n",
        "\n",
        "Podemos ver que os atributos de entrada têm uma mistura de unidades."
      ]
    },
    {
      "cell_type": "code",
      "metadata": {
        "id": "5WWAIhpcygDh",
        "colab_type": "code",
        "outputId": "dfe01fa5-5fde-4fb2-b3c5-f179c13783f0",
        "colab": {
          "base_uri": "https://localhost:8080/",
          "height": 204
        }
      },
      "source": [
        "# Datasets do scikit-learn: https://scikit-learn.org/stable/datasets/index.html\n",
        "\n",
        "# Importação de pacotes\n",
        "import pandas as pd\n",
        "import numpy as np\n",
        "from sklearn import datasets\n",
        "\n",
        "# Carrega o dataset boston\n",
        "boston = datasets.load_boston()\n",
        "\n",
        "# Extraindo X, Y e os nomes das colunas dos atributos\n",
        "X = boston[\"data\"]\n",
        "Y = boston[\"target\"]\n",
        "names = boston[\"feature_names\"]\n",
        "\n",
        "# Se precisar converter para dataframe\n",
        "df = pd.DataFrame(boston.data, columns=boston.feature_names)\n",
        "df.head()"
      ],
      "execution_count": 0,
      "outputs": [
        {
          "output_type": "execute_result",
          "data": {
            "text/html": [
              "<div>\n",
              "<style scoped>\n",
              "    .dataframe tbody tr th:only-of-type {\n",
              "        vertical-align: middle;\n",
              "    }\n",
              "\n",
              "    .dataframe tbody tr th {\n",
              "        vertical-align: top;\n",
              "    }\n",
              "\n",
              "    .dataframe thead th {\n",
              "        text-align: right;\n",
              "    }\n",
              "</style>\n",
              "<table border=\"1\" class=\"dataframe\">\n",
              "  <thead>\n",
              "    <tr style=\"text-align: right;\">\n",
              "      <th></th>\n",
              "      <th>CRIM</th>\n",
              "      <th>ZN</th>\n",
              "      <th>INDUS</th>\n",
              "      <th>CHAS</th>\n",
              "      <th>NOX</th>\n",
              "      <th>RM</th>\n",
              "      <th>AGE</th>\n",
              "      <th>DIS</th>\n",
              "      <th>RAD</th>\n",
              "      <th>TAX</th>\n",
              "      <th>PTRATIO</th>\n",
              "      <th>B</th>\n",
              "      <th>LSTAT</th>\n",
              "    </tr>\n",
              "  </thead>\n",
              "  <tbody>\n",
              "    <tr>\n",
              "      <th>0</th>\n",
              "      <td>0.00632</td>\n",
              "      <td>18.0</td>\n",
              "      <td>2.31</td>\n",
              "      <td>0.0</td>\n",
              "      <td>0.538</td>\n",
              "      <td>6.575</td>\n",
              "      <td>65.2</td>\n",
              "      <td>4.0900</td>\n",
              "      <td>1.0</td>\n",
              "      <td>296.0</td>\n",
              "      <td>15.3</td>\n",
              "      <td>396.90</td>\n",
              "      <td>4.98</td>\n",
              "    </tr>\n",
              "    <tr>\n",
              "      <th>1</th>\n",
              "      <td>0.02731</td>\n",
              "      <td>0.0</td>\n",
              "      <td>7.07</td>\n",
              "      <td>0.0</td>\n",
              "      <td>0.469</td>\n",
              "      <td>6.421</td>\n",
              "      <td>78.9</td>\n",
              "      <td>4.9671</td>\n",
              "      <td>2.0</td>\n",
              "      <td>242.0</td>\n",
              "      <td>17.8</td>\n",
              "      <td>396.90</td>\n",
              "      <td>9.14</td>\n",
              "    </tr>\n",
              "    <tr>\n",
              "      <th>2</th>\n",
              "      <td>0.02729</td>\n",
              "      <td>0.0</td>\n",
              "      <td>7.07</td>\n",
              "      <td>0.0</td>\n",
              "      <td>0.469</td>\n",
              "      <td>7.185</td>\n",
              "      <td>61.1</td>\n",
              "      <td>4.9671</td>\n",
              "      <td>2.0</td>\n",
              "      <td>242.0</td>\n",
              "      <td>17.8</td>\n",
              "      <td>392.83</td>\n",
              "      <td>4.03</td>\n",
              "    </tr>\n",
              "    <tr>\n",
              "      <th>3</th>\n",
              "      <td>0.03237</td>\n",
              "      <td>0.0</td>\n",
              "      <td>2.18</td>\n",
              "      <td>0.0</td>\n",
              "      <td>0.458</td>\n",
              "      <td>6.998</td>\n",
              "      <td>45.8</td>\n",
              "      <td>6.0622</td>\n",
              "      <td>3.0</td>\n",
              "      <td>222.0</td>\n",
              "      <td>18.7</td>\n",
              "      <td>394.63</td>\n",
              "      <td>2.94</td>\n",
              "    </tr>\n",
              "    <tr>\n",
              "      <th>4</th>\n",
              "      <td>0.06905</td>\n",
              "      <td>0.0</td>\n",
              "      <td>2.18</td>\n",
              "      <td>0.0</td>\n",
              "      <td>0.458</td>\n",
              "      <td>7.147</td>\n",
              "      <td>54.2</td>\n",
              "      <td>6.0622</td>\n",
              "      <td>3.0</td>\n",
              "      <td>222.0</td>\n",
              "      <td>18.7</td>\n",
              "      <td>396.90</td>\n",
              "      <td>5.33</td>\n",
              "    </tr>\n",
              "  </tbody>\n",
              "</table>\n",
              "</div>"
            ],
            "text/plain": [
              "      CRIM    ZN  INDUS  CHAS    NOX  ...  RAD    TAX  PTRATIO       B  LSTAT\n",
              "0  0.00632  18.0   2.31   0.0  0.538  ...  1.0  296.0     15.3  396.90   4.98\n",
              "1  0.02731   0.0   7.07   0.0  0.469  ...  2.0  242.0     17.8  396.90   9.14\n",
              "2  0.02729   0.0   7.07   0.0  0.469  ...  2.0  242.0     17.8  392.83   4.03\n",
              "3  0.03237   0.0   2.18   0.0  0.458  ...  3.0  222.0     18.7  394.63   2.94\n",
              "4  0.06905   0.0   2.18   0.0  0.458  ...  3.0  222.0     18.7  396.90   5.33\n",
              "\n",
              "[5 rows x 13 columns]"
            ]
          },
          "metadata": {
            "tags": []
          },
          "execution_count": 1
        }
      ]
    },
    {
      "cell_type": "markdown",
      "metadata": {
        "id": "bRuhKsCG4WaN",
        "colab_type": "text"
      },
      "source": [
        "# Modelos de Regressão"
      ]
    },
    {
      "cell_type": "markdown",
      "metadata": {
        "id": "5PtJr6zcySLA",
        "colab_type": "text"
      },
      "source": [
        "Para avaliar cada algoritmo, iremos usar diversas métricas, dentre elas, a medida de erro quadrático médio (MSE). Na implementação do scikit-learn, os valores médios dos erros quadráticos estão invertidos (negativos), devido a uma peculiaridade da função usada (para mais detalhes, consulte a documentação).\n",
        "\n",
        "https://scikit-learn.org/stable/modules/generated/sklearn.model_selection.train_test_split.html\n",
        "\n",
        "https://scikit-learn.org/stable/modules/generated/sklearn.model_selection.cross_val_score.html\n",
        "\n",
        "https://scikit-learn.org/stable/modules/model_evaluation.html\n",
        "\n",
        "https://scikit-learn.org/stable/modules/generated/sklearn.metrics.mean_squared_error.html#sklearn.metrics.mean_squared_error\n",
        "\n",
        "https://scikit-learn.org/stable/modules/generated/sklearn.metrics.r2_score.html#sklearn.metrics.r2_score"
      ]
    },
    {
      "cell_type": "code",
      "metadata": {
        "id": "ifhMJHSqEQMZ",
        "colab_type": "code",
        "colab": {}
      },
      "source": [
        "# Import dos pacotes\n",
        "from sklearn import metrics\n",
        "from sklearn.model_selection import cross_validate\n",
        "from sklearn.model_selection import KFold\n",
        "from sklearn.model_selection import cross_val_score\n",
        "from sklearn.model_selection import train_test_split\n",
        "\n",
        "### Treinamento e avaliação do modelo\n",
        "def treinarAvaliarModeloRegressao (modelo):\n",
        "  \n",
        "    # Seed ou semente: pode ser qualquer número, e garante que os resultados possam ser reproduzidos de forma idêntica toda vez que o script for rodado. \n",
        "    # Isto é muito importante quando trabalhamos com modelos ou métodos que utilizam de algum tipo de aleatoriedade.\n",
        "    seed = 7\n",
        "    \n",
        "    ## 1. Usando validação cruzada\n",
        "\n",
        "    print(\"=== Usando validação cruzada ===\")\n",
        "\n",
        "    # Definição do número de folds \n",
        "    num_folds = 10\n",
        "    \n",
        "    # Definindo os folds\n",
        "    kfold = KFold(num_folds, True, random_state = seed)\n",
        "\n",
        "    # Aplicação do modelo e cálculo dos resultados\n",
        "    resultado = cross_validate(modelo, X, Y, cv = kfold,\n",
        "                            scoring=('neg_mean_squared_error', 'r2'), # neg_mean_squared_error virá com valor negativo!\n",
        "                            return_train_score=True)\n",
        "\n",
        "    print(\"RMSE de treino: \", np.sqrt(abs(resultado['train_neg_mean_squared_error'].mean())) )\n",
        "    print(\"RMSE de teste: \", np.sqrt(abs(resultado['test_neg_mean_squared_error'].mean())) )\n",
        "    print(\"MSE de treino: \", resultado['train_neg_mean_squared_error'].mean() )\n",
        "    print(\"MSE de teste: \", resultado['test_neg_mean_squared_error'].mean() )\n",
        "    print(\"R2 de treino: \", resultado['train_r2'].mean() )\n",
        "    print(\"R2 de teste: \", resultado['test_r2'].mean() )\n",
        "    print(\"\\n\")\n",
        "\n",
        "    ## 2. Usando conjuntos de treino e teste em vez de validação cruzada\n",
        "    \n",
        "    print(\"=== Usando particionamento treino-teste ===\")\n",
        "    \n",
        "    # Definição do tamanho do conjunto de teste para 33%\n",
        "    teste_size = 0.33\n",
        "\n",
        "    # Criando os conjuntos de dados de treino e de teste\n",
        "    X_treino, X_teste, Y_treino, Y_teste = train_test_split(X, Y, test_size = teste_size, random_state = seed)\n",
        "\n",
        "    # Treinamento\n",
        "    modeloTreinado = modelo.fit(X_treino, Y_treino)\n",
        "\n",
        "    # Previsões\n",
        "    Y_pred = modeloTreinado.predict(X_teste)\n",
        "\n",
        "    # Resultados\n",
        "    corretas = (Y_teste == Y_pred).sum()\n",
        "    total = Y_teste.shape[0]\n",
        "    \n",
        "    # Print dos resultados \n",
        "    print(\"RMSE de teste: \", np.sqrt(metrics.mean_squared_error(Y_teste, Y_pred)))\n",
        "    print(\"MSE de teste: \", metrics.mean_squared_error(Y_teste, Y_pred))\n",
        "    print(\"R2 de teste: \", metrics.r2_score(Y_teste, Y_pred))\n",
        "    \n",
        "    return;\n",
        "\n",
        "  \n",
        "### Impressão dos coeficientes (para regressão linear)\n",
        "def imprimirCoeficientes (modelo):\n",
        "    # Impressão dos coeficientes (intercept e slope)\n",
        "    print(\"Beta0: \", modelo.intercept_)\n",
        "    print(\"\\n\")\n",
        "    coeff_df = pd.DataFrame(modelo.coef_, names, columns=['Coeficientes'])  \n",
        "    print(coeff_df)\n",
        "    print(\"\\n\")\n",
        "    \n",
        "    return;"
      ],
      "execution_count": 0,
      "outputs": []
    },
    {
      "cell_type": "markdown",
      "metadata": {
        "id": "8kgJTUGx1CpZ",
        "colab_type": "text"
      },
      "source": [
        "## Regressão Linear\n",
        "\n",
        "http://scikit-learn.org/stable/modules/generated/sklearn.linear_model.LinearRegression.html\n",
        "\n",
        "A regressão linear pressupõe que as variáveis de entrada tenham uma distribuição gaussiana. Também é assumido que as variáveis de entrada são relevantes para a variável de saída e que não são altamente correlacionadas entre si. Podemos construir um modelo de regressão linear usando a classe LinearRegression."
      ]
    },
    {
      "cell_type": "code",
      "metadata": {
        "id": "8K1wpOo70oMT",
        "colab_type": "code",
        "outputId": "eae58ba9-3f99-421e-ef5d-cf4ebb4c986b",
        "colab": {
          "base_uri": "https://localhost:8080/",
          "height": 595
        }
      },
      "source": [
        "# Import da função\n",
        "from sklearn.linear_model import LinearRegression\n",
        "\n",
        "# Escolhendo o modelo\n",
        "modelo = LinearRegression()\n",
        "\n",
        "# Treinamento e avaliação do modelo\n",
        "treinarAvaliarModeloRegressao(modelo)\n",
        "print(\"\\n\")\n",
        "imprimirCoeficientes(modelo)"
      ],
      "execution_count": 0,
      "outputs": [
        {
          "output_type": "stream",
          "text": [
            "=== Usando validação cruzada ===\n",
            "RMSE de treino:  4.66883016698375\n",
            "RMSE de teste:  4.873038252601078\n",
            "MSE de treino:  -21.797975128137516\n",
            "MSE de teste:  -23.746501811313365\n",
            "R2 de treino:  0.7417692439965816\n",
            "R2 de teste:  0.7181683241114103\n",
            "\n",
            "\n",
            "=== Usando particionamento treino-teste ===\n",
            "RMSE de teste:  5.032127524575092\n",
            "MSE de teste:  25.32230742358624\n",
            "R2 de teste:  0.6663089606572568\n",
            "\n",
            "\n",
            "Beta0:  24.6495548658218\n",
            "\n",
            "\n",
            "         Coeficientes\n",
            "CRIM        -0.109873\n",
            "ZN           0.025843\n",
            "INDUS        0.009282\n",
            "CHAS         2.590511\n",
            "NOX        -15.639798\n",
            "RM           5.350326\n",
            "AGE         -0.014098\n",
            "DIS         -1.307287\n",
            "RAD          0.269510\n",
            "TAX         -0.011260\n",
            "PTRATIO     -0.968767\n",
            "B            0.010029\n",
            "LSTAT       -0.386575\n",
            "\n",
            "\n"
          ],
          "name": "stdout"
        }
      ]
    },
    {
      "cell_type": "markdown",
      "metadata": {
        "id": "4pZ-ZBe10lOV",
        "colab_type": "text"
      },
      "source": [
        "Isto significa que para o aumento de uma unidade em NOX há uma diminuição de 15.63 no target, e que para a diminuição de uma unidade em CHAS, há um aumento em 2.59 no target."
      ]
    },
    {
      "cell_type": "markdown",
      "metadata": {
        "id": "475Yp60C1Q7-",
        "colab_type": "text"
      },
      "source": [
        "## Regressão Ridge\n",
        "\n",
        "http://scikit-learn.org/stable/modules/generated/sklearn.linear_model.Ridge.html\n",
        "\n",
        "A regressão Ridge é uma extensão da regressão linear em que a função de perda é modificada para minimizar a complexidade do modelo medido como a soma do valor ao quadrado dos valores do coeficiente (também chamado de norma L2). Podemos construir um modelo de regressão Ridge usando a classe Ridge."
      ]
    },
    {
      "cell_type": "code",
      "metadata": {
        "id": "WdSp0kfS1RAh",
        "colab_type": "code",
        "outputId": "a92d2f80-7526-477a-c5db-a34c41756dbd",
        "colab": {
          "base_uri": "https://localhost:8080/",
          "height": 595
        }
      },
      "source": [
        "from sklearn.linear_model import Ridge\n",
        "\n",
        "modelo = Ridge()\n",
        "\n",
        "# Treinamento e avaliação do modelo\n",
        "treinarAvaliarModeloRegressao(modelo)\n",
        "print(\"\\n\")\n",
        "imprimirCoeficientes(modelo)"
      ],
      "execution_count": 0,
      "outputs": [
        {
          "output_type": "stream",
          "text": [
            "=== Usando validação cruzada ===\n",
            "RMSE de treino:  4.687047665576289\n",
            "RMSE de teste:  4.88772853021252\n",
            "MSE de treino:  -21.96841581938414\n",
            "MSE de teste:  -23.88989018505344\n",
            "R2 de treino:  0.7397462418961597\n",
            "R2 de teste:  0.716092748999703\n",
            "\n",
            "\n",
            "=== Usando particionamento treino-teste ===\n",
            "RMSE de teste:  5.079243301210836\n",
            "MSE de teste:  25.79871251289515\n",
            "R2 de teste:  0.6600310134409777\n",
            "\n",
            "\n",
            "Beta0:  18.809734112178386\n",
            "\n",
            "\n",
            "         Coeficientes\n",
            "CRIM        -0.109709\n",
            "ZN           0.027939\n",
            "INDUS       -0.021965\n",
            "CHAS         2.525037\n",
            "NOX         -7.845890\n",
            "RM           5.423987\n",
            "AGE         -0.019643\n",
            "DIS         -1.184205\n",
            "RAD          0.253371\n",
            "TAX         -0.012005\n",
            "PTRATIO     -0.869945\n",
            "B            0.010187\n",
            "LSTAT       -0.395127\n",
            "\n",
            "\n"
          ],
          "name": "stdout"
        }
      ]
    },
    {
      "cell_type": "markdown",
      "metadata": {
        "id": "BPeH7R285ESu",
        "colab_type": "text"
      },
      "source": [
        "## Regressão LASSO\n",
        "\n",
        "http://scikit-learn.org/stable/modules/generated/sklearn.linear_model.Lasso.html\n",
        "\n",
        "A regressão LASSO (Least Absolute Shrinkage and Selection Operator) é uma modificação da regressão linear em que a função de perda é modificada para minimizar a complexidade do modelo medido como a soma do valor absoluto dos valores de coeficiente (também chamado a norma L1). Podemos construir um modelo LASSO usando a classe Lasso."
      ]
    },
    {
      "cell_type": "code",
      "metadata": {
        "id": "dc4m-zDP5EYp",
        "colab_type": "code",
        "outputId": "d1900477-3706-4e2a-f88c-8865ee7aa4b7",
        "colab": {
          "base_uri": "https://localhost:8080/",
          "height": 595
        }
      },
      "source": [
        "from sklearn.linear_model import Lasso\n",
        "\n",
        "modelo = Lasso()\n",
        "\n",
        "# Treinamento e avaliação do modelo\n",
        "treinarAvaliarModeloRegressao(modelo)\n",
        "print(\"\\n\")\n",
        "imprimirCoeficientes(modelo)"
      ],
      "execution_count": 0,
      "outputs": [
        {
          "output_type": "stream",
          "text": [
            "=== Usando validação cruzada ===\n",
            "RMSE de treino:  5.168851691637753\n",
            "RMSE de teste:  5.361519381280976\n",
            "MSE de treino:  -26.717027810146465\n",
            "MSE de teste:  -28.74589007585154\n",
            "R2 de treino:  0.6833717306814954\n",
            "R2 de teste:  0.6620846823996761\n",
            "\n",
            "\n",
            "=== Usando particionamento treino-teste ===\n",
            "RMSE de teste:  4.898615578574049\n",
            "MSE de teste:  23.99643458664836\n",
            "R2 de teste:  0.6837809815751457\n",
            "\n",
            "\n",
            "Beta0:  30.662179808858333\n",
            "\n",
            "\n",
            "         Coeficientes\n",
            "CRIM        -0.032079\n",
            "ZN           0.033424\n",
            "INDUS       -0.000000\n",
            "CHAS         0.000000\n",
            "NOX         -0.000000\n",
            "RM           2.314710\n",
            "AGE          0.023226\n",
            "DIS         -0.428535\n",
            "RAD          0.244641\n",
            "TAX         -0.015521\n",
            "PTRATIO     -0.697395\n",
            "B            0.007468\n",
            "LSTAT       -0.671867\n",
            "\n",
            "\n"
          ],
          "name": "stdout"
        }
      ]
    },
    {
      "cell_type": "markdown",
      "metadata": {
        "id": "W_pbyuJp1lrh",
        "colab_type": "text"
      },
      "source": [
        "## Regressão ElasticNet\n",
        "\n",
        "http://scikit-learn.org/stable/modules/generated/sklearn.linear_model.ElasticNet.html\n",
        "\n",
        "O ElasticNet é um método de regularização de regressão que combina as propriedades da regressão de Ridge e da regressão LASSO. Ele procura minimizar a complexidade do modelo de regressão (magnitude e número de coeficientes de regressão) penalizando o modelo usando a norma L2 (soma dos valores do coeficiente ao quadrado) e a norma L1 (soma dos valores absolutos do coeficiente). Podemos construir um modelo ElasticNet usando a classe ElasticNet."
      ]
    },
    {
      "cell_type": "code",
      "metadata": {
        "id": "m9I3ZctE1lwH",
        "colab_type": "code",
        "outputId": "5a8813af-f23b-486e-c14d-6288a6c14fa3",
        "colab": {
          "base_uri": "https://localhost:8080/",
          "height": 595
        }
      },
      "source": [
        "from sklearn.linear_model import ElasticNet\n",
        "\n",
        "modelo = ElasticNet()\n",
        "\n",
        "# Treinamento e avaliação do modelo\n",
        "treinarAvaliarModeloRegressao(modelo)\n",
        "print(\"\\n\")\n",
        "imprimirCoeficientes(modelo)"
      ],
      "execution_count": 0,
      "outputs": [
        {
          "output_type": "stream",
          "text": [
            "=== Usando validação cruzada ===\n",
            "RMSE de treino:  5.139987442511225\n",
            "RMSE de teste:  5.282842072240193\n",
            "MSE de treino:  -26.419470909173082\n",
            "MSE de teste:  -27.908420360231055\n",
            "R2 de treino:  0.6869761153286654\n",
            "R2 de teste:  0.6707573051925824\n",
            "\n",
            "\n",
            "=== Usando particionamento treino-teste ===\n",
            "RMSE de teste:  4.8045884826654515\n",
            "MSE de teste:  23.0840704877615\n",
            "R2 de teste:  0.6958038876762297\n",
            "\n",
            "\n",
            "Beta0:  39.173320396182206\n",
            "\n",
            "\n",
            "         Coeficientes\n",
            "CRIM        -0.061006\n",
            "ZN           0.044829\n",
            "INDUS       -0.021688\n",
            "CHAS         0.000000\n",
            "NOX         -0.000000\n",
            "RM           1.389340\n",
            "AGE          0.028021\n",
            "DIS         -0.596196\n",
            "RAD          0.308559\n",
            "TAX         -0.017516\n",
            "PTRATIO     -0.751238\n",
            "B            0.006934\n",
            "LSTAT       -0.733593\n",
            "\n",
            "\n"
          ],
          "name": "stdout"
        }
      ]
    },
    {
      "cell_type": "markdown",
      "metadata": {
        "id": "5WnWuh1g11fi",
        "colab_type": "text"
      },
      "source": [
        "## K-Nearest Neighbors\n",
        "\n",
        "http://scikit-learn.org/stable/modules/generated/sklearn.neighbors.KNeighborsRegressor.html\n",
        "\n",
        "O KNN localiza as k instâncias mais semelhantes no\n",
        "conjunto de dados de treinamento para uma nova instância de dados. Dos k vizinhos, a variável de saída média ou mediana é tomada como a previsão. É importante notar a métrica da distância usada (o argumento da métrica). A distância de Minkowski é usada por padrão, que é uma generalização da distância euclidiana (usada quando todas as entradas têm a mesma escala) e da distância de Manhattan (usada quando as escalas das variáveis de entrada diferem). Podemos  construir um modelo KNN para regressão usando a classe KNeighborsRegressor."
      ]
    },
    {
      "cell_type": "code",
      "metadata": {
        "id": "kyFl-5A811kp",
        "colab_type": "code",
        "outputId": "d183efc4-f006-44a8-8638-35b62fd1d43f",
        "colab": {
          "base_uri": "https://localhost:8080/",
          "height": 323
        }
      },
      "source": [
        "from sklearn.neighbors import KNeighborsRegressor\n",
        "\n",
        "modelo = KNeighborsRegressor()\n",
        "\n",
        "# Print dos parâmetros do modelo\n",
        "print(modelo.get_params)\n",
        "print(\"\\n\")\n",
        "\n",
        "# Treinamento e avaliação do modelo\n",
        "treinarAvaliarModeloRegressao(modelo)"
      ],
      "execution_count": 0,
      "outputs": [
        {
          "output_type": "stream",
          "text": [
            "<bound method BaseEstimator.get_params of KNeighborsRegressor(algorithm='auto', leaf_size=30, metric='minkowski',\n",
            "                    metric_params=None, n_jobs=None, n_neighbors=5, p=2,\n",
            "                    weights='uniform')>\n",
            "\n",
            "\n",
            "=== Usando validação cruzada ===\n",
            "RMSE de treino:  4.948155477065862\n",
            "RMSE de teste:  6.233162942412678\n",
            "MSE de treino:  -24.484242625216886\n",
            "MSE de teste:  -38.852320266666666\n",
            "R2 de treino:  0.7097378290240509\n",
            "R2 de teste:  0.5094444355002923\n",
            "\n",
            "\n",
            "=== Usando particionamento treino-teste ===\n",
            "RMSE de teste:  5.872843214759755\n",
            "MSE de teste:  34.490287425149695\n",
            "R2 de teste:  0.5454956112171632\n"
          ],
          "name": "stdout"
        }
      ]
    },
    {
      "cell_type": "markdown",
      "metadata": {
        "id": "rVzuOOkG2E_E",
        "colab_type": "text"
      },
      "source": [
        "## Árvores de Decisão\n",
        "\n",
        "http://scikit-learn.org/stable/modules/generated/sklearn.tree.DecisionTreeRegressor.html\n",
        "\n",
        "As árvores de decisão ou as Árvores de Classificação e Regressão (CART, como são conhecidas) usam os dados de treinamento para selecionar os melhores pontos para dividir os dados, a fim de minimizar uma métrica de custo. A métrica de custo padrão para árvores de decisão de regressão é o erro médio quadrático, especificado no parâmetro critério. Podemos criar um modelo CART para regressão usando a classe DecisionTreeRegressor."
      ]
    },
    {
      "cell_type": "code",
      "metadata": {
        "id": "vmJeWBvc2FEL",
        "colab_type": "code",
        "outputId": "7abc6833-09d4-4789-ad26-79633d88e95e",
        "colab": {
          "base_uri": "https://localhost:8080/",
          "height": 377
        }
      },
      "source": [
        "from sklearn.tree import DecisionTreeRegressor\n",
        "\n",
        "modelo = DecisionTreeRegressor()\n",
        "\n",
        "# Print dos parâmetros do modelo\n",
        "print(modelo.get_params)\n",
        "print(\"\\n\")\n",
        "\n",
        "# Treinamento e avaliação do modelo\n",
        "treinarAvaliarModeloRegressao(modelo)"
      ],
      "execution_count": 0,
      "outputs": [
        {
          "output_type": "stream",
          "text": [
            "<bound method BaseEstimator.get_params of DecisionTreeRegressor(criterion='mse', max_depth=None, max_features=None,\n",
            "                      max_leaf_nodes=None, min_impurity_decrease=0.0,\n",
            "                      min_impurity_split=None, min_samples_leaf=1,\n",
            "                      min_samples_split=2, min_weight_fraction_leaf=0.0,\n",
            "                      presort=False, random_state=None, splitter='best')>\n",
            "\n",
            "\n",
            "=== Usando validação cruzada ===\n",
            "RMSE de treino:  0.0\n",
            "RMSE de teste:  4.830216615123964\n",
            "MSE de treino:  0.0\n",
            "MSE de teste:  -23.33099254901961\n",
            "R2 de treino:  1.0\n",
            "R2 de teste:  0.7015464705789144\n",
            "\n",
            "\n",
            "=== Usando particionamento treino-teste ===\n",
            "RMSE de teste:  4.693791287084098\n",
            "MSE de teste:  22.03167664670659\n",
            "R2 de teste:  0.709672070727053\n"
          ],
          "name": "stdout"
        }
      ]
    },
    {
      "cell_type": "markdown",
      "metadata": {
        "id": "WNp7h-xY2vU8",
        "colab_type": "text"
      },
      "source": [
        "## Support Vector Machines\n",
        "\n",
        "http://scikit-learn.org/stable/modules/generated/sklearn.svm.SVR.html\n",
        "\n",
        "O modelo SVM foi desenvolvido inicialmente para classificação binária e depois estendido para os problemas de predição de valor real e denominado Support Vector Regression (SVR). Podemos criar um modelo SVM para regressão usando a classe SVR."
      ]
    },
    {
      "cell_type": "code",
      "metadata": {
        "id": "4zb2TcvJ2vaw",
        "colab_type": "code",
        "outputId": "b8e88e59-ea61-467c-cda8-3b24f3fd30c6",
        "colab": {
          "base_uri": "https://localhost:8080/",
          "height": 326
        }
      },
      "source": [
        "from sklearn.svm import SVR\n",
        "\n",
        "modelo = SVR(gamma='auto')\n",
        "\n",
        "# Print dos parâmetros do modelo\n",
        "print(modelo.get_params)\n",
        "print(\"\\n\")\n",
        "\n",
        "# Treinamento e avaliação do modelo\n",
        "treinarAvaliarModeloRegressao(modelo)"
      ],
      "execution_count": 0,
      "outputs": [
        {
          "output_type": "stream",
          "text": [
            "<bound method BaseEstimator.get_params of SVR(C=1.0, cache_size=200, coef0=0.0, degree=3, epsilon=0.1, gamma='auto',\n",
            "    kernel='rbf', max_iter=-1, shrinking=True, tol=0.001, verbose=False)>\n",
            "\n",
            "\n",
            "=== Usando validação cruzada ===\n",
            "RMSE de treino:  8.47863932064203\n",
            "RMSE de teste:  9.150558886796565\n",
            "MSE de treino:  -71.88732472953714\n",
            "MSE de teste:  -83.73272794073159\n",
            "R2 de treino:  0.14847067230564637\n",
            "R2 de teste:  0.0019497717923192214\n",
            "\n",
            "\n",
            "=== Usando particionamento treino-teste ===\n",
            "RMSE de teste:  8.71880830440189\n",
            "MSE de teste:  76.01761824890737\n",
            "R2 de teste:  -0.0017411769596671345\n"
          ],
          "name": "stdout"
        }
      ]
    },
    {
      "cell_type": "markdown",
      "metadata": {
        "id": "1_WaUApV4dvi",
        "colab_type": "text"
      },
      "source": [
        "# Comparação de Modelos"
      ]
    },
    {
      "cell_type": "markdown",
      "metadata": {
        "id": "j8XK8ymtrV_l",
        "colab_type": "text"
      },
      "source": [
        "Vamos criar uma função para comparar diversos modelos de regressão."
      ]
    },
    {
      "cell_type": "code",
      "metadata": {
        "id": "bRxpInnF4mgc",
        "colab_type": "code",
        "colab": {}
      },
      "source": [
        "from matplotlib import pyplot\n",
        "from sklearn.model_selection import KFold\n",
        "from sklearn.model_selection import cross_val_score\n",
        "from sklearn.linear_model import LinearRegression\n",
        "from sklearn.linear_model import Ridge\n",
        "from sklearn.linear_model import Lasso\n",
        "from sklearn.linear_model import ElasticNet\n",
        "from sklearn.neighbors import KNeighborsRegressor\n",
        "from sklearn.tree import DecisionTreeRegressor\n",
        "from sklearn.svm import SVR\n",
        " \n",
        "# Lista de modelos a avaliar\n",
        "models = []\n",
        "models.append(('LinearRegression', LinearRegression()))\n",
        "models.append(('Ridge', Ridge()))\n",
        "models.append(('Lasso', Lasso()))\n",
        "models.append(('ElasticNet', ElasticNet()))\n",
        "models.append(('KNN', KNeighborsRegressor()))\n",
        "models.append(('CART', DecisionTreeRegressor()))\n",
        "models.append(('SVM', SVR(gamma=\"auto\")))\n",
        "\n",
        "def comparaModelos(X, Y, models):\n",
        "  \n",
        "  # Treinamento e avaliação de cada modelo\n",
        "  results = []\n",
        "  names = []  \n",
        "  scoring = 'neg_mean_squared_error' # Virá com valor negativo!\n",
        "  for name, model in models:\n",
        "    kfold = KFold(n_splits=10, random_state=7)\n",
        "    cv_results = cross_val_score(model, X, Y, cv=kfold, scoring=scoring)\n",
        "    results.append(cv_results)\n",
        "    names.append(name)\n",
        "    # imprime MSE, desvio padrão do MSE e RMSE\n",
        "    msg = \"%s: MSE %0.2f (%0.2f) - RMSE %0.2f\" % (name, cv_results.mean(), cv_results.std(), np.sqrt(abs(cv_results.mean())))\n",
        "    print(msg)\n",
        "\n",
        "  # Comparação dos algoritmos em boxplot\n",
        "  fig = pyplot.figure()\n",
        "  fig.suptitle('Comparação dos Algoritmos')\n",
        "  ax = fig.add_subplot(111)\n",
        "  pyplot.boxplot(results)\n",
        "  ax.set_xticklabels(names)\n",
        "  pyplot.show()\n",
        "  return;"
      ],
      "execution_count": 0,
      "outputs": []
    },
    {
      "cell_type": "markdown",
      "metadata": {
        "id": "peGBt5dPrRRX",
        "colab_type": "text"
      },
      "source": [
        "Aplicando a função..."
      ]
    },
    {
      "cell_type": "code",
      "metadata": {
        "id": "sxgVsoswqOfM",
        "colab_type": "code",
        "outputId": "d7ea6625-c8d7-499a-de93-810c0c229c53",
        "colab": {
          "base_uri": "https://localhost:8080/",
          "height": 413
        }
      },
      "source": [
        "comparaModelos(X, Y, models)"
      ],
      "execution_count": 0,
      "outputs": [
        {
          "output_type": "stream",
          "text": [
            "LinearRegression: MSE -34.71 (45.57) - RMSE 5.89\n",
            "Ridge: MSE -34.08 (45.90) - RMSE 5.84\n",
            "Lasso: MSE -34.46 (27.89) - RMSE 5.87\n",
            "ElasticNet: MSE -31.16 (22.71) - RMSE 5.58\n",
            "KNN: MSE -107.29 (79.84) - RMSE 10.36\n",
            "CART: MSE -41.62 (31.48) - RMSE 6.45\n",
            "SVM: MSE -91.05 (71.10) - RMSE 9.54\n"
          ],
          "name": "stdout"
        },
        {
          "output_type": "display_data",
          "data": {
            "image/png": "[encoded data removed]",
            "text/plain": [
              "<Figure size 432x288 with 1 Axes>"
            ]
          },
          "metadata": {
            "tags": []
          }
        }
      ]
    },
    {
      "cell_type": "markdown",
      "metadata": {
        "id": "e3wqw88Epd49",
        "colab_type": "text"
      },
      "source": [
        "*OBS: se neste caso estivéssemos usando a métrica r2 em vez da neg_mean_squared_error, possivelmente terímos valores negativos, uma vez que estamos usando cross validation e os dados não estão padronizados, sendo possível que a média dos dados de treino seja muito diferente da média dos dados de teste. A padronização dos dados neste caso resolveria este problema, gerando r2 entre 0 e 1.*\n",
        "\n",
        "Vamos agora verificar se a padronização de dados tem algum efeito nos resultados dos modelos, executando a mesma função, porém, padronizando os dados de X antes (uma boa prática!)."
      ]
    },
    {
      "cell_type": "code",
      "metadata": {
        "id": "FtVjvBJwpBUC",
        "colab_type": "code",
        "outputId": "2db0546e-c64c-4c71-c73c-d09cd5f19f48",
        "colab": {
          "base_uri": "https://localhost:8080/",
          "height": 413
        }
      },
      "source": [
        "# Import das funções\n",
        "from sklearn.model_selection import GridSearchCV\n",
        "from sklearn.preprocessing import StandardScaler\n",
        "\n",
        "# Padronização dos dados\n",
        "scaler = StandardScaler().fit(X)\n",
        "X_padronizado = scaler.transform(X)\n",
        "\n",
        "comparaModelos(X_padronizado, Y, models)"
      ],
      "execution_count": 0,
      "outputs": [
        {
          "output_type": "stream",
          "text": [
            "LinearRegression: MSE -34.71 (45.57) - RMSE 5.89\n",
            "Ridge: MSE -34.55 (45.42) - RMSE 5.88\n",
            "Lasso: MSE -37.87 (40.59) - RMSE 6.15\n",
            "ElasticNet: MSE -37.30 (36.08) - RMSE 6.11\n",
            "KNN: MSE -28.59 (25.46) - RMSE 5.35\n",
            "CART: MSE -39.05 (31.42) - RMSE 6.25\n",
            "SVM: MSE -38.52 (37.92) - RMSE 6.21\n"
          ],
          "name": "stdout"
        },
        {
          "output_type": "display_data",
          "data": {
            "image/png": "[encoded data removed]",
            "text/plain": [
              "<Figure size 432x288 with 1 Axes>"
            ]
          },
          "metadata": {
            "tags": []
          }
        }
      ]
    },
    {
      "cell_type": "markdown",
      "metadata": {
        "id": "iZjfUMOlQbGy",
        "colab_type": "text"
      },
      "source": [
        "# Tuning Automático de Hiperparâmetros\n",
        "\n"
      ]
    },
    {
      "cell_type": "markdown",
      "metadata": {
        "id": "UH0LiGrckXfw",
        "colab_type": "text"
      },
      "source": [
        "Podemos avaliar de forma fácil diversas variações de parâmetros de algoritmos usando a função GridSearchCV. Para tal, vamos criar uma função de tuning que recebe um modelo e um conjunto de parâmetros. Esta função irá imprimir o modelo com o melhor resultado.\n",
        "\n",
        "https://scikit-learn.org/stable/modules/generated/sklearn.model_selection.GridSearchCV.html\n",
        "\n",
        "https://scikit-learn.org/stable/modules/grid_search.html"
      ]
    },
    {
      "cell_type": "code",
      "metadata": {
        "id": "si1U1tV_QiRS",
        "colab_type": "code",
        "colab": {}
      },
      "source": [
        "import warnings\n",
        "warnings.filterwarnings(\"ignore\")\n",
        "\n",
        "from sklearn.model_selection import GridSearchCV\n",
        "\n",
        "def tuningHiperparametros(nome, modelo, param_grid):\n",
        "\n",
        "  scoring = 'neg_mean_squared_error' # Virá com valor negativo!\n",
        "  \n",
        "  # Definição do número de folds \n",
        "  num_folds = 10\n",
        "  seed = 7\n",
        "    \n",
        "  # Definindo os folds\n",
        "  kfold = KFold(num_folds, True, random_state = seed)\n",
        "\n",
        "  # Avaliação de todas as combinações\n",
        "  grid = GridSearchCV(estimator=modelo, param_grid=param_grid, scoring=scoring, cv=kfold,\n",
        "      iid=True)\n",
        "  grid.fit(X_padronizado, Y)\n",
        "\n",
        "  # Imprime o modelo com o melhor resultado\n",
        "  print(\"Modelo %s - Melhor com %s\" % (nome, grid.best_params_)) \n",
        "  melhorModelo = grid.best_estimator_\n",
        "  \n",
        "  return melhorModelo;"
      ],
      "execution_count": 0,
      "outputs": []
    },
    {
      "cell_type": "code",
      "metadata": {
        "id": "OXT2-EfrQ6yz",
        "colab_type": "code",
        "outputId": "2d00e976-59e5-4371-ebc2-0d3538b551ad",
        "colab": {
          "base_uri": "https://localhost:8080/",
          "height": 549
        }
      },
      "source": [
        "# Definição dos possíveis valores de hiperparâmetros para os Regressores Ridge, Lasso e ElasticNet\n",
        "alphas = [1e-15, 1e-10, 1e-8, 1e-4, 1e-3,1e-2, 1, 5, 10, 20, 50, 100]\n",
        "\n",
        "# Ridge\n",
        "param_gridRidge = dict(alpha=alphas)\n",
        "# Avaliação de todas as combinações e impressão dos resultados\n",
        "melhorModeloRidge = tuningHiperparametros(\"Ridge\", Ridge(), param_gridRidge)\n",
        "\n",
        "# Lasso\n",
        "param_gridLasso = dict(alpha=alphas)\n",
        "# Avaliação de todas as combinações e impressão dos resultados\n",
        "melhorModeloLasso = tuningHiperparametros(\"Lasso\", Lasso(), param_gridLasso)\n",
        "\n",
        "# ElasticNet\n",
        "param_gridElasticNet = dict(alpha=alphas)\n",
        "# Avaliação de todas as combinações e impressão dos resultados\n",
        "melhorModeloElasticNet = tuningHiperparametros(\"ElasticNet\", ElasticNet(), param_gridElasticNet)\n",
        "\n",
        "# KNN\n",
        "# Definição dos possíveis valores de hiperparâmetros\n",
        "k = [1,3,5,7,9,11,13,15,17,19,21]\n",
        "distancias = [\"euclidean\", \"manhattan\", \"minkowski\"]\n",
        "param_gridKNN = dict(n_neighbors=k, metric=distancias)\n",
        "# Avaliação de todas as combinações e impressão dos resultados\n",
        "melhorModeloKNN = tuningHiperparametros(\"KNN\", KNeighborsRegressor(), param_gridKNN)\n",
        "\n",
        "# CART\n",
        "# Definição dos possíveis valores de hiperparâmetros\n",
        "criterios = ['mse', 'mae']\n",
        "max_depth = [3,5,10,20,30,40,50]\n",
        "min_samples_leaf = [3,5,10,20,30,40,50]\n",
        "param_gridCART = dict(criterion=criterios, min_samples_leaf=min_samples_leaf, max_depth=max_depth)\n",
        "# Avaliação de todas as combinações e impressão dos resultados\n",
        "melhorModeloCART = tuningHiperparametros(\"CART\", DecisionTreeRegressor(), param_gridCART)\n",
        "\n",
        "# SVR\n",
        "# Definição dos possíveis valores de hiperparâmetros\n",
        "c_values = [0.1, 0.3, 0.5, 0.7, 0.9, 1.0, 1.3, 1.5, 1.7, 2.0]\n",
        "kernel_values = ['linear', 'poly', 'rbf', 'sigmoid']\n",
        "param_gridSVR = dict(C=c_values, kernel=kernel_values)\n",
        "# Avaliação de todas as combinações e impressão dos resultados\n",
        "melhorModeloSVR = tuningHiperparametros(\"SVM\", SVR(gamma='auto'), param_gridSVR)\n",
        "\n",
        "models2 = []\n",
        "models2.append(('LinearRegression', LinearRegression())) # Não há muito o que variar\n",
        "models2.append(('Ridge', melhorModeloRidge))\n",
        "models2.append(('Lasso', melhorModeloLasso))\n",
        "models2.append(('ElasticNet', melhorModeloElasticNet))\n",
        "models2.append(('KNN', melhorModeloKNN))\n",
        "models2.append(('CART', melhorModeloCART))\n",
        "models2.append(('SVM', melhorModeloSVR))\n",
        "\n",
        "print(\"\\n\")\n",
        "\n",
        "comparaModelos(X_padronizado, Y, models2)"
      ],
      "execution_count": 0,
      "outputs": [
        {
          "output_type": "stream",
          "text": [
            "Modelo Ridge - Melhor com {'alpha': 10}\n",
            "Modelo Lasso - Melhor com {'alpha': 0.01}\n",
            "Modelo ElasticNet - Melhor com {'alpha': 0.01}\n",
            "Modelo KNN - Melhor com {'metric': 'manhattan', 'n_neighbors': 3}\n",
            "Modelo CART - Melhor com {'criterion': 'mse', 'max_depth': 30, 'min_samples_leaf': 3}\n",
            "Modelo SVM - Melhor com {'C': 2.0, 'kernel': 'rbf'}\n",
            "\n",
            "\n",
            "LinearRegression: MSE -34.71 (45.57) - RMSE 5.89\n",
            "Ridge: MSE -33.48 (44.07) - RMSE 5.79\n",
            "Lasso: MSE -34.55 (45.60) - RMSE 5.88\n",
            "ElasticNet: MSE -34.30 (45.23) - RMSE 5.86\n",
            "KNN: MSE -28.73 (27.49) - RMSE 5.36\n",
            "CART: MSE -35.68 (28.98) - RMSE 5.97\n",
            "SVM: MSE -31.55 (32.87) - RMSE 5.62\n"
          ],
          "name": "stdout"
        },
        {
          "output_type": "display_data",
          "data": {
            "image/png": "[encoded data removed]",
            "text/plain": [
              "<Figure size 432x288 with 1 Axes>"
            ]
          },
          "metadata": {
            "tags": []
          }
        }
      ]
    }
  ]
}