{
  "nbformat": 4,
  "nbformat_minor": 0,
  "metadata": {
    "colab": {
      "name": "ML - Exercício 2 - Problemas de Classificação.ipynb",
      "version": "0.3.2",
      "provenance": []
    },
    "kernelspec": {
      "name": "python3",
      "display_name": "Python 3"
    }
  },
  "cells": [
    {
      "cell_type": "markdown",
      "metadata": {
        "id": "JzONFe0W2mHw",
        "colab_type": "text"
      },
      "source": [
        "# Especialização em Ciência de Dados - PUC-Rio\n",
        "# Machine Learning\n",
        "## Exercício 2: Problemas de Classificação"
      ]
    },
    {
      "cell_type": "markdown",
      "metadata": {
        "id": "NnHlnwLF3jh5",
        "colab_type": "text"
      },
      "source": [
        "\n",
        "\n",
        "---\n",
        "\n",
        "\n",
        "<b>Aluno: </b>\n",
        "\n",
        "---\n",
        "\n"
      ]
    },
    {
      "cell_type": "markdown",
      "metadata": {
        "id": "oa1y_RrG3C7T",
        "colab_type": "text"
      },
      "source": [
        "<b>Escolha um dataset simples para problemas de classificação diferente do usado em aula (preferencialmente do UCI Machine Learning Repository - https://archive.ics.uci.edu/ml/index.php) e treine os modelos de classificação  aprendidos em aula (Árvore de Classificação, KNN, Naive Bayes, SVM e Regressão Logística.</b>"
      ]
    },
    {
      "cell_type": "code",
      "metadata": {
        "id": "rbjlQ2WB3EkA",
        "colab_type": "code",
        "colab": {}
      },
      "source": [
        ""
      ],
      "execution_count": 0,
      "outputs": []
    },
    {
      "cell_type": "markdown",
      "metadata": {
        "id": "umP9jBPk3Euz",
        "colab_type": "text"
      },
      "source": [
        "**Agora pesquise outras bibliotecas, modelos de classificação ou funcionalidades (não estudados em sala) e aplique-os no problema. Lembre-se que quanto mais você pesquisar e treinar, mais irá aprender.**"
      ]
    },
    {
      "cell_type": "code",
      "metadata": {
        "id": "uTdps4lW3R8n",
        "colab_type": "code",
        "colab": {}
      },
      "source": [
        ""
      ],
      "execution_count": 0,
      "outputs": []
    },
    {
      "cell_type": "markdown",
      "metadata": {
        "id": "11l-FXsq3SEc",
        "colab_type": "text"
      },
      "source": [
        "**O que você aprendeu sobre o problema de classificação deste dataset?**"
      ]
    },
    {
      "cell_type": "markdown",
      "metadata": {
        "id": "SaICNZX43cNy",
        "colab_type": "text"
      },
      "source": [
        ""
      ]
    }
  ]
}